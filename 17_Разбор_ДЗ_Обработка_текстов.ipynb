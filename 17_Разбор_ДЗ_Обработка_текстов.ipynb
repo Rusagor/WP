{
  "nbformat": 4,
  "nbformat_minor": 0,
  "metadata": {
    "colab": {
      "name": "17 Разбор ДЗ Обработка текстов",
      "provenance": [],
      "collapsed_sections": [],
      "machine_shape": "hm",
      "include_colab_link": true
    },
    "kernelspec": {
      "name": "python3",
      "display_name": "Python 3"
    },
    "accelerator": "GPU"
  },
  "cells": [
    {
      "cell_type": "markdown",
      "metadata": {
        "id": "view-in-github",
        "colab_type": "text"
      },
      "source": [
        "<a href=\"https://colab.research.google.com/github/Rusagor/WP/blob/master/17_%D0%A0%D0%B0%D0%B7%D0%B1%D0%BE%D1%80_%D0%94%D0%97_%D0%9E%D0%B1%D1%80%D0%B0%D0%B1%D0%BE%D1%82%D0%BA%D0%B0_%D1%82%D0%B5%D0%BA%D1%81%D1%82%D0%BE%D0%B2.ipynb\" target=\"_parent\"><img src=\"https://colab.research.google.com/assets/colab-badge.svg\" alt=\"Open In Colab\"/></a>"
      ]
    },
    {
      "cell_type": "code",
      "metadata": {
        "id": "yMDYnukfULjl"
      },
      "source": [
        "from google.colab import files # Для работы с файлами \n",
        "import numpy as np # Для работы с данными \n",
        "import pandas as pd # Для работы с таблицами\n",
        "import matplotlib.pyplot as plt # Для вывода графиков\n",
        "import os # Для работы с файлами\n",
        "%matplotlib inline\n",
        "\n",
        "from tensorflow.keras import utils # Для работы с категориальными данными\n",
        "from tensorflow.keras.models import Sequential # Полносвязная модель\n",
        "from tensorflow.keras.layers import Dense, Dropout, SpatialDropout1D, BatchNormalization, Embedding, Flatten, Activation # Слои для сети\n",
        "from tensorflow.keras.preprocessing.text import Tokenizer # Методы для работы с текстами и преобразования их в последовательности\n",
        "from tensorflow.keras.preprocessing.sequence import pad_sequences # Метод для работы с последовательностями\n",
        "from tensorflow.keras.optimizers import Adam #Оптимизатор\n",
        "\n",
        "from sklearn.preprocessing import LabelEncoder # Метод кодирования тестовых лейблов\n",
        "from sklearn.model_selection import train_test_split # Для разделения выборки на тестовую и обучающую\n",
        "from google.colab import drive # Для работы с Google Drive\n",
        "import time # Импортируем библиотеку time"
      ],
      "execution_count": null,
      "outputs": []
    },
    {
      "cell_type": "code",
      "metadata": {
        "id": "Uotak5faUr-6",
        "colab": {
          "base_uri": "https://localhost:8080/",
          "height": 34
        },
        "outputId": "3ebe760a-e444-43b4-c09d-71f1ec9f1222"
      },
      "source": [
        "drive.mount('/content/drive')"
      ],
      "execution_count": null,
      "outputs": [
        {
          "output_type": "stream",
          "text": [
            "Mounted at /content/drive\n"
          ],
          "name": "stdout"
        }
      ]
    },
    {
      "cell_type": "code",
      "metadata": {
        "id": "3eDYA-zmUuHN",
        "colab": {
          "base_uri": "https://localhost:8080/",
          "height": 34
        },
        "outputId": "a79ddf79-8f1e-4536-e00a-1bf9c2ffb292"
      },
      "source": [
        "!rm -R /content/texts # Проверяем наличие папки texts. Если есть, удаляем ее"
      ],
      "execution_count": null,
      "outputs": [
        {
          "output_type": "stream",
          "text": [
            "rm: cannot remove '/content/texts': No such file or directory\n"
          ],
          "name": "stdout"
        }
      ]
    },
    {
      "cell_type": "code",
      "metadata": {
        "id": "uLa6b8k6U0fU"
      },
      "source": [
        "# Указываем путь к базе в Google Drive, создаем папку texts и извлекаем туда базу\n",
        "!unzip -q '/content/drive/My Drive/Colab Notebooks/HW Tutorials/HW 4 Tutorial/Тексты писателей.zip' -d /content/texts "
      ],
      "execution_count": null,
      "outputs": []
    },
    {
      "cell_type": "code",
      "metadata": {
        "id": "QuNZ8PSlU2Hg"
      },
      "source": [
        "def readText(fileName): # Объявляем функции для чтения файла. На вход отправляем путь к файлу\n",
        "  f = open(fileName, 'r')        # Задаем открытие нужного файла в режиме чтения\n",
        "  text = f.read()                # Читаем текст\n",
        "  text = text.replace(\"\\n\", \" \") # Переносы строки переводим в пробелы\n",
        "  \n",
        "  return text                    # Возвращаем текст файла\n",
        "\n",
        "className = [\"О. Генри\", \"Стругацкие\", \"Булгаков\", \"Саймак\", \"Фрай\", \"Брэдберри\"] # Объявляем интересующие нас классы\n",
        "nClasses = len(className) # Считаем количество классов"
      ],
      "execution_count": null,
      "outputs": []
    },
    {
      "cell_type": "code",
      "metadata": {
        "id": "7p7XOD3yU5DA",
        "colab": {
          "base_uri": "https://localhost:8080/",
          "height": 319
        },
        "outputId": "4618bde1-ee9d-4fd0-a40b-7a0fe59b04ff"
      },
      "source": [
        "#Загружаем обучающие тексты\n",
        "\n",
        "trainText = [] #Формируем обучающие тексты\n",
        "testText = [] #Формируем тестовые тексты\n",
        "\n",
        "#Формирование необходимо произвести следующим образом \n",
        "#Класс каждого i-ого эллемента в обучающей выборке должен соответствовать \n",
        "#классу каждого i-ого эллемента в тестовой выборке\n",
        "\n",
        "for i in className: #Проходим по каждому классу\n",
        "  for j in os.listdir('texts/'): #Проходим по каждому файлу в папке с текстами #\n",
        "    if i in j: #Проверяем, содержит ли файл j в названии имя класса i\n",
        "      \n",
        "      if 'Обучающая' in j: #Если в имени найденного класса есть строка \"Обучающая\" \n",
        "        trainText.append(readText('texts/' + j)) #добавляем в обучающую выборку\n",
        "        print(j, 'добавлен в обучающую выборку') #Выводим информацию\n",
        "      if 'Тестовая' in j: #Если в имени найденного класса есть строка \"Тестовая\"\n",
        "        testText.append(readText('texts/' + j)) #добавляем в обучающую выборку\n",
        "        print(j, 'добавлен в тестовую выборку') #Выводим информацию\n",
        "  print()"
      ],
      "execution_count": null,
      "outputs": [
        {
          "output_type": "stream",
          "text": [
            "(О. Генри) Обучающая_50 вместе.txt добавлен в обучающую выборку\n",
            "(О. Генри) Тестовая_20 вместе.txt добавлен в тестовую выборку\n",
            "\n",
            "(Стругацкие) Обучающая_5 вместе.txt добавлен в обучающую выборку\n",
            "(Стругацкие) Тестовая_2 вместе.txt добавлен в тестовую выборку\n",
            "\n",
            "(Булгаков) Тестовая_2 вместе.txt добавлен в тестовую выборку\n",
            "(Булгаков) Обучающая_5 вместе.txt добавлен в обучающую выборку\n",
            "\n",
            "(Клиффорд_Саймак) Тестовая_2 вместе.txt добавлен в тестовую выборку\n",
            "(Клиффорд_Саймак) Обучающая_5 вместе.txt добавлен в обучающую выборку\n",
            "\n",
            "(Макс Фрай) Обучающая_5 вместе.txt добавлен в обучающую выборку\n",
            "(Макс Фрай) Тестовая_2 вместе.txt добавлен в тестовую выборку\n",
            "\n",
            "(Рэй Брэдберри) Обучающая_22 вместе.txt добавлен в обучающую выборку\n",
            "(Рэй Брэдберри) Тестовая_8 вместе.txt добавлен в тестовую выборку\n",
            "\n"
          ],
          "name": "stdout"
        }
      ]
    },
    {
      "cell_type": "code",
      "metadata": {
        "id": "DLUPpTOIU6na",
        "colab": {
          "base_uri": "https://localhost:8080/",
          "height": 50
        },
        "outputId": "5cfd34d0-ffc7-4206-8f0e-4a2f4d8f2f53"
      },
      "source": [
        "print(len(trainText)) # Количество элементов в trainText\n",
        "print(len(trainText[0])) # Количество символов в первом источнике в trainText"
      ],
      "execution_count": null,
      "outputs": [
        {
          "output_type": "stream",
          "text": [
            "6\n",
            "1049517\n"
          ],
          "name": "stdout"
        }
      ]
    },
    {
      "cell_type": "code",
      "metadata": {
        "id": "pCxn8LYv3glJ",
        "colab": {
          "base_uri": "https://localhost:8080/",
          "height": 34
        },
        "outputId": "d81f0f8a-a884-4686-e4a8-7f947dd0414b"
      },
      "source": [
        "cur_time = time.time() # Засекаем текущее время\n",
        "maxWordsCount = 22000 # Определяем максимальное количество слов/индексов, учитываемое при обучении текстов\n",
        "\n",
        "# Воспользуемся встроенной в Keras функцией Tokenizer для разбиения текста и превращения в матрицу числовых значений\n",
        "# num_words=maxWordsCount - определяем максимальное количество слов/индексов, учитываемое при обучении текстов\n",
        "# filters='!\"#$%&()*+,-./:;<=>?@[\\\\]^_`{|}~\\t\\n' - избавляемся от ненужных символов\n",
        "# lower=True - приводим слова к нижнему регистру\n",
        "# split=' ' - разделяем слова по пробелу\n",
        "# char_level=False - просим токенайзер не удалять однобуквенные слова\n",
        "tokenizer = Tokenizer(num_words=maxWordsCount, filters=' ', lower=True, split=' ', oov_token='unknown', char_level=False)\n",
        "\n",
        "tokenizer.fit_on_texts(trainText) # \"Скармливаем\" наши тексты, т.е. даём в обработку методу, который соберет словарь частотности\n",
        "items = list(tokenizer.word_index.items()) # Вытаскиваем индексы слов для просмотра\n",
        "print('Время обработки: ', round(time.time() - cur_time, 2), 'c', sep='')"
      ],
      "execution_count": null,
      "outputs": [
        {
          "output_type": "stream",
          "text": [
            "Время обработки: 2.19c\n"
          ],
          "name": "stdout"
        }
      ]
    },
    {
      "cell_type": "code",
      "metadata": {
        "id": "HgiANDRE_tWF",
        "colab": {
          "base_uri": "https://localhost:8080/",
          "height": 50
        },
        "outputId": "1ebb0197-f68d-4683-988a-4eb54c5d452d"
      },
      "source": [
        "print(items[:10]) # Посмотрим 50 самых часто встречающихся слов\n",
        "print(\"Размер словаря\", len(items)) # Длина словаря"
      ],
      "execution_count": null,
      "outputs": [
        {
          "output_type": "stream",
          "text": [
            "[('unknown', 1), ('и', 2), ('–', 3), ('в', 4), ('не', 5), ('на', 6), ('я', 7), ('что', 8), ('—', 9), ('с', 10)]\n",
            "Размер словаря 229971\n"
          ],
          "name": "stdout"
        }
      ]
    },
    {
      "cell_type": "code",
      "metadata": {
        "id": "hkJeOizQABT6",
        "colab": {
          "base_uri": "https://localhost:8080/",
          "height": 84
        },
        "outputId": "e75cac1e-a971-4a07-fff9-caeeb23eaa04"
      },
      "source": [
        "# Преобразовываем текст в последовательность индексов согласно частотному словарю\n",
        "trainWordIndexes = tokenizer.texts_to_sequences(trainText) # Обучающие тесты в индексы\n",
        "testWordIndexes = tokenizer.texts_to_sequences(testText)  # Проверочные тесты в индексы\n",
        "\n",
        "print(\"Взглянем на фрагмент обучающего текста:\")\n",
        "print(\"В виде оригинального текста:              \", trainText[0][:87])\n",
        "print(\"Он же в виде последовательности индексов: \", trainWordIndexes[0][:20], '\\n')"
      ],
      "execution_count": null,
      "outputs": [
        {
          "output_type": "stream",
          "text": [
            "Взглянем на фрагмент обучающего текста:\n",
            "В виде оригинального текста:               «Лиса-на-рассвете»   Коралио нежился в полуденном зное, как томная красавица в сурово х\n",
            "Он же в виде последовательности индексов:  [1, 3170, 1, 4, 1, 1, 13, 1, 12151, 4, 3240, 1, 1, 406, 1029, 16, 242, 4843, 6, 1] \n",
            "\n"
          ],
          "name": "stdout"
        }
      ]
    },
    {
      "cell_type": "code",
      "metadata": {
        "id": "apxVpC19sJxq",
        "colab": {
          "base_uri": "https://localhost:8080/",
          "height": 353
        },
        "outputId": "177d2d01-0e4c-4582-a08a-3456f4fb6510"
      },
      "source": [
        "print(\"Статистика по обучающим текстам:\")\n",
        "\n",
        "symbolsTrainText = 0 # Объявляем переменную для подсчета символов в обучающих текстах\n",
        "wordsTrainText = 0 # Объявляем переменную для подсчета слов в обучающих текстах\n",
        "\n",
        "for i in range(nClasses): # Проходим по всем классам\n",
        "  print(className[i], \" \"*(10-len(className[i])), len(trainText[i]), \"символов, \", len(trainWordIndexes[i]), \"слов\")\n",
        "  symbolsTrainText += len(trainText[i]) # Считаем символы\n",
        "  wordsTrainText += len(trainWordIndexes[i]) # Считаем слова \n",
        "\n",
        "print('----')\n",
        "print(\"В сумме \", symbolsTrainText, \" символов, \", wordsTrainText, \" слов \\n\")\n",
        "print()\n",
        "print(\"Статистика по тестовым текстам:\")\n",
        "\n",
        "symbolsTestText = 0 # Объявляем переменную для подсчета символов в тестовых текстах\n",
        "wordsTestText = 0 # Объявляем переменную для подсчета слов в тестовых текстах\n",
        "\n",
        "for i in range(nClasses): #Проходим по всем классам\n",
        "  print(className[i], ' '*(10-len(className[i])), len(testText[i]), \"символов, \", len(testWordIndexes[i]), \"слов\")\n",
        "  symbolsTestText += len(testText[i]) #Считаем символы\n",
        "  wordsTestText += len(testWordIndexes[i]) #Считаем слова \n",
        "print('----')\n",
        "print(\"В сумме \", symbolsTestText, \" символов, \", wordsTestText, \" слов\")"
      ],
      "execution_count": null,
      "outputs": [
        {
          "output_type": "stream",
          "text": [
            "Статистика по обучающим текстам:\n",
            "О. Генри    1049517 символов,  159711 слов\n",
            "Стругацкие  2042469 символов,  325815 слов\n",
            "Булгаков    1163264 символов,  174946 слов\n",
            "Саймак      1609507 символов,  254785 слов\n",
            "Фрай        3700010 символов,  592636 слов\n",
            "Брэдберри   1386454 символов,  213866 слов\n",
            "----\n",
            "В сумме  10951221  символов,  1721759  слов \n",
            "\n",
            "\n",
            "Статистика по тестовым текстам:\n",
            "О. Генри    349662 символов,  52899 слов\n",
            "Стругацкие  704846 символов,  111788 слов\n",
            "Булгаков    875042 символов,  137031 слов\n",
            "Саймак      318811 символов,  50152 слов\n",
            "Фрай        1278191 символов,  203877 слов\n",
            "Брэдберри   868673 символов,  131858 слов\n",
            "----\n",
            "В сумме  4395225  символов,  687605  слов\n"
          ],
          "name": "stdout"
        }
      ]
    },
    {
      "cell_type": "code",
      "metadata": {
        "id": "RriLgDtaVMOi"
      },
      "source": [
        "# Формирование обучающей выборки по листу индексов слов\n",
        "# (разделение на короткие векторы)\n",
        "def getSetFromIndexes(wordIndexes, xLen, step): # функция принимает последовательность индексов, размер окна, шаг окна\n",
        "  xSample = [] # Объявляем переменную для векторов\n",
        "  wordsLen = len(wordIndexes) # Считаем количество слов\n",
        "  index = 0 # Задаем начальный индекс \n",
        "\n",
        "  while (index + xLen <= wordsLen):# Идём по всей длине вектора индексов\n",
        "    xSample.append(wordIndexes[index:index+xLen]) # \"Откусываем\" векторы длины xLen\n",
        "    index += step # Смещаеммся вперёд на step\n",
        "    \n",
        "  return xSample"
      ],
      "execution_count": null,
      "outputs": []
    },
    {
      "cell_type": "code",
      "metadata": {
        "id": "N0WW1etJVTD1"
      },
      "source": [
        "# Формирование обучающей и проверочной выборки\n",
        "# Из двух листов индексов от двух классов\n",
        "def createSetsMultiClasses(wordIndexes, xLen, step): # Функция принимает последовательность индексов, размер окна, шаг окна\n",
        "\n",
        "  # Для каждого из 6 классов\n",
        "  # Создаём обучающую/проверочную выборку из индексов\n",
        "  nClasses = len(wordIndexes) # Задаем количество классов выборки\n",
        "  classesXSamples = []        # Здесь будет список размером \"кол-во классов*кол-во окон в тексте*длину окна (например, 6 по 1341*1000)\"\n",
        "  for wI in wordIndexes:      # Для каждого текста выборки из последовательности индексов\n",
        "    classesXSamples.append(getSetFromIndexes(wI, xLen, step)) # Добавляем в список очередной текст индексов, разбитый на \"кол-во окон*длину окна\" \n",
        "\n",
        "  # Формируем один общий xSamples\n",
        "  xSamples = [] # Здесь будет список размером \"суммарное кол-во окон во всех текстах*длину окна (например, 15779*1000)\"\n",
        "  ySamples = [] # Здесь будет список размером \"суммарное кол-во окон во всех текстах*вектор длиной 6\"\n",
        "  \n",
        "  for t in range(nClasses): # В диапазоне кол-ва классов(6)\n",
        "    xT = classesXSamples[t] # Берем очередной текст вида \"кол-во окон в тексте*длину окна\"(например, 1341*1000)\n",
        "    for i in range(len(xT)): # И каждое его окно\n",
        "      xSamples.append(xT[i]) # Добавляем в общий список выборки\n",
        "      ySamples.append(utils.to_categorical(t, nClasses)) # Добавляем соответствующий вектор класса\n",
        "\n",
        "  xSamples = np.array(xSamples) # Переводим в массив numpy для подачи в нейронку\n",
        "  ySamples = np.array(ySamples) # Переводим в массив numpy для подачи в нейронку\n",
        "\n",
        "  \n",
        "  return (xSamples, ySamples) #Функция возвращает выборку и соответствующие векторы классов"
      ],
      "execution_count": null,
      "outputs": []
    },
    {
      "cell_type": "code",
      "metadata": {
        "id": "SgzoAiyawSwJ"
      },
      "source": [
        "#Задаём базовые параметры\n",
        "xLen = 10000 #Длина отрезка текста, по которой анализируем, в словах\n",
        "step = 150 #Шаг разбиения исходного текста на обучающие векторы"
      ],
      "execution_count": null,
      "outputs": []
    },
    {
      "cell_type": "code",
      "metadata": {
        "id": "CqAgZWT8RH0b",
        "colab": {
          "base_uri": "https://localhost:8080/",
          "height": 101
        },
        "outputId": "3de7eb03-c9e7-48d3-ade6-e71c79ebc01d"
      },
      "source": [
        "cur_time = time.time() # Засекаем текущее время\n",
        "#Формируем обучающую и тестовую выборку\n",
        "xTrain, yTrain = createSetsMultiClasses(trainWordIndexes, xLen, step) #извлекаем обучающую выборку\n",
        "xTest, yTest = createSetsMultiClasses(testWordIndexes, xLen, step)    #извлекаем тестовую выборку\n",
        "print(xTrain.shape)\n",
        "print(yTrain.shape)\n",
        "print(xTest.shape)\n",
        "print(yTest.shape)\n",
        "#получили обучающий/тестовый набор, достаточный для запуска Embedding, но для Bag of Words нужно xTrain и xTest представить в виде векторов из 0 и 1\n",
        "print('Время обработки: ', round(time.time() - cur_time, 2), 'c', sep='')"
      ],
      "execution_count": null,
      "outputs": [
        {
          "output_type": "stream",
          "text": [
            "(11082, 10000)\n",
            "(11082, 6)\n",
            "(4186, 10000)\n",
            "(4186, 6)\n",
            "Время обработки: 11.67c\n"
          ],
          "name": "stdout"
        }
      ]
    },
    {
      "cell_type": "code",
      "metadata": {
        "id": "VZpWSQWf4pgY",
        "colab": {
          "base_uri": "https://localhost:8080/",
          "height": 134
        },
        "outputId": "3bd2b9d7-42fc-4af9-fc27-ef3f29ce8223"
      },
      "source": [
        "cur_time = time.time() # Засекаем текущее время\n",
        "# Преобразовываем полученные выборки из последовательности индексов в матрицы нулей и единиц по принципу Bag of Words\n",
        "xTrain01 = tokenizer.sequences_to_matrix(xTrain.tolist()) # Подаем xTrain в виде списка, чтобы метод успешно сработал\n",
        "xTest01 = tokenizer.sequences_to_matrix(xTest.tolist()) # Подаем xTest в виде списка, чтобы метод успешно сработал\n",
        "\n",
        "print(xTrain01.shape)       # Размер обучающей выборки, сформированной по Bag of Words\n",
        "print(xTrain01[0][0:100]) # Фрагмент набора слов в виде Bag of Words\n",
        "print('Время обработки: ', round(time.time() - cur_time, 2), 'c', sep='')"
      ],
      "execution_count": null,
      "outputs": [
        {
          "output_type": "stream",
          "text": [
            "(11082, 22000)\n",
            "[0. 1. 1. 0. 1. 1. 1. 1. 1. 1. 1. 1. 1. 1. 1. 1. 1. 1. 1. 1. 1. 1. 1. 1.\n",
            " 1. 0. 1. 1. 1. 1. 1. 1. 1. 1. 1. 1. 1. 1. 1. 1. 1. 1. 1. 1. 1. 1. 1. 1.\n",
            " 0. 1. 1. 1. 1. 1. 1. 1. 1. 1. 1. 1. 1. 1. 1. 1. 1. 1. 1. 1. 1. 1. 0. 0.\n",
            " 1. 1. 1. 1. 1. 1. 1. 1. 1. 1. 1. 1. 1. 1. 1. 1. 1. 1. 1. 1. 1. 1. 1. 1.\n",
            " 1. 1. 1. 1.]\n",
            "Время обработки: 41.03c\n"
          ],
          "name": "stdout"
        }
      ]
    },
    {
      "cell_type": "code",
      "metadata": {
        "id": "lLvDWY_B0rPQ",
        "colab": {
          "base_uri": "https://localhost:8080/",
          "height": 54
        },
        "outputId": "5278feba-d92a-4704-e511-ee9d754ac207"
      },
      "source": [
        "for i in range(100):\n",
        "  print(int(i in xTrain[0]),end=' ')"
      ],
      "execution_count": null,
      "outputs": [
        {
          "output_type": "stream",
          "text": [
            "0 1 1 0 1 1 1 1 1 1 1 1 1 1 1 1 1 1 1 1 1 1 1 1 1 0 1 1 1 1 1 1 1 1 1 1 1 1 1 1 1 1 1 1 1 1 1 1 0 1 1 1 1 1 1 1 1 1 1 1 1 1 1 1 1 1 1 1 1 1 0 0 1 1 1 1 1 1 1 1 1 1 1 1 1 1 1 1 1 1 1 1 1 1 1 1 1 1 1 1 "
          ],
          "name": "stdout"
        }
      ]
    },
    {
      "cell_type": "markdown",
      "metadata": {
        "id": "r4IB6OQBKBnS"
      },
      "source": [
        "**Нейросеть**"
      ]
    },
    {
      "cell_type": "code",
      "metadata": {
        "id": "j9fWpAZTa0Ja",
        "colab": {
          "base_uri": "https://localhost:8080/",
          "height": 615
        },
        "outputId": "7fdbe442-8886-40e4-b6f7-37369a748ad5"
      },
      "source": [
        "#Создаём полносвязную сеть\n",
        "model01 = Sequential()\n",
        "#Первый полносвязный слой\n",
        "model01.add(Dense(16, input_dim=maxWordsCount, activation=\"relu\"))\n",
        "#Слой регуляризации Dropout\n",
        "model01.add(Dropout(0.30))\n",
        "#Слой пакетной нормализации\n",
        "model01.add(BatchNormalization())\n",
        "\n",
        "#Выходной полносвязный слой\n",
        "model01.add(Dense(6, activation='sigmoid'))\n",
        "\n",
        "model01.compile(optimizer='adam', \n",
        "              loss='categorical_crossentropy', \n",
        "              metrics=['accuracy'])\n",
        "\n",
        "#Обучаем сеть на выборке, сформированной по bag of words - xTrain01\n",
        "history = model01.fit(xTrain01, \n",
        "                      yTrain, \n",
        "                      epochs=10,\n",
        "                      batch_size=128,\n",
        "                      validation_data=(xTest01, yTest))\n",
        "\n",
        "plt.plot(history.history['accuracy'], \n",
        "         label='Доля верных ответов на обучающем наборе')\n",
        "plt.plot(history.history['val_accuracy'], \n",
        "         label='Доля верных ответов на проверочном наборе')\n",
        "plt.xlabel('Эпоха обучения')\n",
        "plt.ylabel('Доля верных ответов')\n",
        "plt.legend()\n",
        "plt.show()"
      ],
      "execution_count": null,
      "outputs": [
        {
          "output_type": "stream",
          "text": [
            "Epoch 1/10\n",
            "87/87 [==============================] - 1s 10ms/step - loss: 1.1160 - accuracy: 0.9289 - val_loss: 1.1382 - val_accuracy: 0.9620\n",
            "Epoch 2/10\n",
            "87/87 [==============================] - 1s 8ms/step - loss: 0.9289 - accuracy: 0.9649 - val_loss: 1.0182 - val_accuracy: 0.9802\n",
            "Epoch 3/10\n",
            "87/87 [==============================] - 1s 8ms/step - loss: 0.7213 - accuracy: 0.9663 - val_loss: 0.8385 - val_accuracy: 0.8588\n",
            "Epoch 4/10\n",
            "87/87 [==============================] - 1s 8ms/step - loss: 0.5012 - accuracy: 0.9539 - val_loss: 0.6921 - val_accuracy: 0.8029\n",
            "Epoch 5/10\n",
            "87/87 [==============================] - 1s 8ms/step - loss: 0.3547 - accuracy: 0.9459 - val_loss: 0.6214 - val_accuracy: 0.8075\n",
            "Epoch 6/10\n",
            "87/87 [==============================] - 1s 8ms/step - loss: 0.2718 - accuracy: 0.9473 - val_loss: 0.5512 - val_accuracy: 0.8579\n",
            "Epoch 7/10\n",
            "87/87 [==============================] - 1s 8ms/step - loss: 0.2070 - accuracy: 0.9664 - val_loss: 0.4505 - val_accuracy: 0.9591\n",
            "Epoch 8/10\n",
            "87/87 [==============================] - 1s 8ms/step - loss: 0.1345 - accuracy: 0.9854 - val_loss: 0.3875 - val_accuracy: 0.9603\n",
            "Epoch 9/10\n",
            "87/87 [==============================] - 1s 8ms/step - loss: 0.1009 - accuracy: 0.9855 - val_loss: 0.3460 - val_accuracy: 0.9532\n",
            "Epoch 10/10\n",
            "87/87 [==============================] - 1s 8ms/step - loss: 0.0811 - accuracy: 0.9875 - val_loss: 0.3056 - val_accuracy: 0.9732\n"
          ],
          "name": "stdout"
        },
        {
          "output_type": "display_data",
          "data": {
            "image/png": "[encoded data removed]",
            "text/plain": [
              "<Figure size 432x288 with 1 Axes>"
            ]
          },
          "metadata": {
            "tags": [],
            "needs_background": "light"
          }
        }
      ]
    },
    {
      "cell_type": "code",
      "metadata": {
        "id": "2hVG8tTYWON9",
        "colab": {
          "base_uri": "https://localhost:8080/",
          "height": 50
        },
        "outputId": "66717bef-faf1-44dd-955e-b089058bb5b2"
      },
      "source": [
        "model01.evaluate(xTest01, yTest)"
      ],
      "execution_count": null,
      "outputs": [
        {
          "output_type": "stream",
          "text": [
            "131/131 [==============================] - 0s 2ms/step - loss: 0.3056 - accuracy: 0.9732\n"
          ],
          "name": "stdout"
        },
        {
          "output_type": "execute_result",
          "data": {
            "text/plain": [
              "[0.3055749237537384, 0.9732441306114197]"
            ]
          },
          "metadata": {
            "tags": []
          },
          "execution_count": 47
        }
      ]
    },
    {
      "cell_type": "code",
      "metadata": {
        "id": "GaNTaRy20a2J"
      },
      "source": [
        "# Представляем тестовую выборку в удобных для распознавания размерах\n",
        "def createTestMultiClasses(wordIndexes, xLen, step): #функция принимает последовательность индексов, размер окна, шаг окна\n",
        "\n",
        "  #Для каждого из 6 классов\n",
        "  #Создаём тестовую выборку из индексов\n",
        "  nClasses = len(wordIndexes) #Задаем количество классов\n",
        "  xTest6Classes01 = []               #Здесь будет список из всех классов, каждый размером \"кол-во окон в тексте * 20000 (при maxWordsCount=20000)\"\n",
        "  xTest6Classes = []                 #Здесь будет список массивов, каждый размером \"кол-во окон в тексте * длину окна\"(6 по 420*1000)\n",
        "  for wI in wordIndexes:                       #Для каждого тестового текста из последовательности индексов\n",
        "    sample = (getSetFromIndexes(wI, xLen, step)) #Тестовая выборка размером \"кол-во окон*длину окна\"(например, 420*1000)\n",
        "    xTest6Classes.append(sample)              # Добавляем в список\n",
        "    xTest6Classes01.append(tokenizer.sequences_to_matrix(sample)) #Трансформируется в Bag of Words в виде \"кол-во окон в тексте * 20000\"\n",
        "  xTest6Classes01 = np.array(xTest6Classes01)                     #И добавляется к нашему списку, \n",
        "  xTest6Classes = np.array(xTest6Classes)                     #И добавляется к нашему списку, \n",
        "  \n",
        "  return xTest6Classes01, xTest6Classes  #функция вернёт тестовые данные: TestBag 6 классов на n*20000 и xTestEm 6 по n*1000\n",
        "\n",
        "# Распознаём тестовую выборку и выводим результаты\n",
        "def recognizeMultiClass(model, xTest, modelName):\n",
        "  print(\"НЕЙРОНКА: \", modelName)\n",
        "  print()\n",
        "  \n",
        "  totalSumRec = 0 # Сумма всех правильных ответов\n",
        "  \n",
        "  #Проходим по всем классам\n",
        "  for i in range(nClasses):\n",
        "    #Получаем результаты распознавания класса по блокам слов длины xLen\n",
        "    currPred = model.predict(xTest[i])\n",
        "    #Определяем номер распознанного класса для каждохо блока слов длины xLen\n",
        "    currOut = np.argmax(currPred, axis=1)\n",
        "\n",
        "    evVal = []\n",
        "    for j in range(nClasses):\n",
        "      evVal.append(len(currOut[currOut==j])/len(xTest[i]))\n",
        "\n",
        "    totalSumRec += len(currOut[currOut==i])\n",
        "    recognizedClass = np.argmax(evVal) #Определяем, какой класс в итоге за какой был распознан\n",
        "    \n",
        "    #Выводим результаты распознавания по текущему классу\n",
        "    isRecognized = \"Это НЕПРАВИЛЬНЫЙ ответ!\"\n",
        "    if (recognizedClass == i):\n",
        "      isRecognized = \"Это ПРАВИЛЬНЫЙ ответ!\"\n",
        "    str1 = 'Класс: ' + className[i] + \" \" * (11 - len(className[i])) + str(int(100*evVal[i])) + \"% сеть отнесла к классу \" + className[recognizedClass]\n",
        "    print(str1, \" \" * (55-len(str1)), isRecognized, sep='')\n",
        "  \n",
        "  #Выводим средний процент распознавания по всем классам вместе\n",
        "  print()\n",
        "  sumCount = 0\n",
        "  for i in range(nClasses):\n",
        "    sumCount += len(xTest[i])\n",
        "  print(\"Средний процент распознавания \", int(100*totalSumRec/sumCount), \"%\", sep='')\n",
        "\n",
        "  print()\n",
        "  \n",
        "  return totalSumRec/sumCount"
      ],
      "execution_count": null,
      "outputs": []
    },
    {
      "cell_type": "code",
      "metadata": {
        "id": "s8oo58WvwGx5"
      },
      "source": [
        "xTest6Classes01, _ = createTestMultiClasses(testWordIndexes, xLen, step) #Преобразование тестовой выборки"
      ],
      "execution_count": null,
      "outputs": []
    },
    {
      "cell_type": "code",
      "metadata": {
        "id": "ccrvz_mWwLZu",
        "colab": {
          "base_uri": "https://localhost:8080/",
          "height": 202
        },
        "outputId": "5d19b9c9-ffed-4433-9476-5650059b3027"
      },
      "source": [
        "#Проверяем точность нейронки обученной на bag of words\n",
        "pred = recognizeMultiClass(model01, xTest6Classes01, \"Тексты 01 + Dense\")"
      ],
      "execution_count": null,
      "outputs": [
        {
          "output_type": "stream",
          "text": [
            "НЕЙРОНКА:  Тексты 01 + Dense\n",
            "\n",
            "Класс: О. Генри   100% сеть отнесла к классу О. Генри  Это ПРАВИЛЬНЫЙ ответ!\n",
            "Класс: Стругацкие 98% сеть отнесла к классу Стругацкие Это ПРАВИЛЬНЫЙ ответ!\n",
            "Класс: Булгаков   92% сеть отнесла к классу Булгаков   Это ПРАВИЛЬНЫЙ ответ!\n",
            "Класс: Саймак     93% сеть отнесла к классу Саймак     Это ПРАВИЛЬНЫЙ ответ!\n",
            "Класс: Фрай       98% сеть отнесла к классу Фрай       Это ПРАВИЛЬНЫЙ ответ!\n",
            "Класс: Брэдберри  100% сеть отнесла к классу Брэдберри Это ПРАВИЛЬНЫЙ ответ!\n",
            "\n",
            "Средний процент распознавания 97%\n",
            "\n"
          ],
          "name": "stdout"
        }
      ]
    },
    {
      "cell_type": "code",
      "metadata": {
        "id": "YHZzEWKaDMnn"
      },
      "source": [
        ""
      ],
      "execution_count": null,
      "outputs": []
    }
  ]
}