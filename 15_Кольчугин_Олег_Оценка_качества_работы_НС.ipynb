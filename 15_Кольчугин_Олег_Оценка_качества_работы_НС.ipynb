{
  "nbformat": 4,
  "nbformat_minor": 0,
  "metadata": {
    "colab": {
      "name": "15 Кольчугин Олег Оценка качества работы НС",
      "provenance": [],
      "collapsed_sections": [],
      "toc_visible": true,
      "include_colab_link": true
    },
    "kernelspec": {
      "name": "python3",
      "display_name": "Python 3"
    },
    "accelerator": "GPU"
  },
  "cells": [
    {
      "cell_type": "markdown",
      "metadata": {
        "id": "view-in-github",
        "colab_type": "text"
      },
      "source": [
        "<a href=\"https://colab.research.google.com/github/Rusagor/WP/blob/master/15_%D0%9A%D0%BE%D0%BB%D1%8C%D1%87%D1%83%D0%B3%D0%B8%D0%BD_%D0%9E%D0%BB%D0%B5%D0%B3_%D0%9E%D1%86%D0%B5%D0%BD%D0%BA%D0%B0_%D0%BA%D0%B0%D1%87%D0%B5%D1%81%D1%82%D0%B2%D0%B0_%D1%80%D0%B0%D0%B1%D0%BE%D1%82%D1%8B_%D0%9D%D0%A1.ipynb\" target=\"_parent\"><img src=\"https://colab.research.google.com/assets/colab-badge.svg\" alt=\"Open In Colab\"/></a>"
      ]
    },
    {
      "cell_type": "code",
      "metadata": {
        "id": "eLcMicDxg7rC",
        "outputId": "4f38c01d-72d7-40cd-c29a-b764b7e4c4ae",
        "colab": {
          "base_uri": "https://localhost:8080/"
        }
      },
      "source": [
        "from tensorflow.keras.models import Sequential # НС прямого распространения\n",
        "from tensorflow.keras.layers import Dense, Activation, Dropout, BatchNormalization # Основные слои\n",
        "from tensorflow.keras import utils # Утилиты для to_categorical\n",
        "from tensorflow.keras.preprocessing import image # Для отрисовки изображения\n",
        "from tensorflow.keras.optimizers import Adam, Adadelta # Алгоритмы оптимизации, для настройки скорости обучения\n",
        "import numpy as np # Библиотека работы с массивами\n",
        "import pandas as pd\n",
        "import matplotlib.pyplot as plt # Отрисовка изображений\n",
        "from PIL import Image # Отрисовка изображений\n",
        "import pandas as pd # Библиотека pandas\n",
        "from google.colab import files # Импорт файлов\n",
        "from sklearn.preprocessing import LabelEncoder, StandardScaler # Функции для нормализации данных\n",
        "from sklearn import preprocessing # Пакет предварительной обработки данных\n",
        "from sklearn.model_selection import train_test_split\n",
        "import random, time, gc\n",
        "from IPython.display import clear_output\n",
        "from google.colab import drive\n",
        "drive.mount('/content/drive')\n",
        "\n",
        "# Отрисовывать изображения в ноутбуке, а не в консоль или файл\n",
        "%matplotlib inline\n"
      ],
      "execution_count": 2,
      "outputs": [
        {
          "output_type": "stream",
          "text": [
            "Mounted at /content/drive\n"
          ],
          "name": "stdout"
        }
      ]
    },
    {
      "cell_type": "markdown",
      "metadata": {
        "id": "jjqH_JaURnnK"
      },
      "source": [
        "#LIGHT\n",
        "\n",
        "Модель для распознавания рукописных цифр из набора MNIST\n",
        "\n",
        "\n",
        "*   Импорт библиотек.\n",
        "*   Загрузка базы mnist.\n",
        "*   Нормирование и преобразование x_train и y_train.\n",
        "*   Создание нейронной сети.\n",
        "*   Обучение нейронной сети.\n",
        "\n",
        "\n",
        "\n",
        "\n",
        "\n",
        "\n",
        "\n",
        "\n",
        "\n",
        "\n"
      ]
    },
    {
      "cell_type": "markdown",
      "metadata": {
        "id": "ObJx-LsuIHrA"
      },
      "source": [
        "Импорт библиотек"
      ]
    },
    {
      "cell_type": "code",
      "metadata": {
        "id": "hBMkkgdRRgZd",
        "outputId": "aabde555-a9f0-4770-ef84-22a286586fdc",
        "colab": {
          "base_uri": "https://localhost:8080/"
        }
      },
      "source": [
        "from tensorflow.keras.datasets import mnist #Библиотека с базой Mnist\n",
        "(x_train_org, y_train_org), (x_test_org, y_test_org) = mnist.load_data() #Загрузка данных Mnist"
      ],
      "execution_count": 3,
      "outputs": [
        {
          "output_type": "stream",
          "text": [
            "Downloading data from https://storage.googleapis.com/tensorflow/tf-keras-datasets/mnist.npz\n",
            "11493376/11490434 [==============================] - 0s 0us/step\n"
          ],
          "name": "stdout"
        }
      ]
    },
    {
      "cell_type": "code",
      "metadata": {
        "id": "hP8YhiAAK4cu"
      },
      "source": [
        "x_train = x_train_org.reshape(60000, 784)\n",
        "x_test = x_test_org.reshape(10000, 784)\n",
        "x_train = x_train.astype('float32') \n",
        "x_train = x_train / 255 \n",
        "x_test = x_test.astype('float32') \n",
        "x_test = x_test / 255 "
      ],
      "execution_count": 4,
      "outputs": []
    },
    {
      "cell_type": "code",
      "metadata": {
        "id": "cNafCKmRWDaP"
      },
      "source": [
        "# Преобразуем ответы в формат one_hot_encoding\n",
        "y_train = utils.to_categorical(y_train_org, 10)\n",
        "y_test = utils.to_categorical(y_test_org, 10)"
      ],
      "execution_count": 5,
      "outputs": []
    },
    {
      "cell_type": "code",
      "metadata": {
        "id": "JWxfW57dqc5g"
      },
      "source": [
        "# Задаем исходные гиперпараметры первой НС\n",
        "# Xbase - задаём базу цифр для распознавания\n",
        "# Ybase - задаём базу ответов\n",
        "# x_test - тестовая выборка примеров\n",
        "# y_test - тестовая выборка ответов\n",
        "# bs - размер batch_size\n",
        "# N2 - количество нейронов во втором слое\n",
        "# optim - используемыЙ оптимайзер\n",
        "# ts - размер проверочной выборки в отношении к 60000\n",
        "# verb - отображение рассчета НС\n",
        "\n",
        "# Создаем функцию для задания параметров нейронной сети по распозанванию цифр \n",
        "def NS(bs, N2, optim, ts, Xbase, Ybase, verb, x_tst, y_tst):\n",
        "  x_t, x_p, y_t, y_p = train_test_split(Xbase, Ybase, test_size=ts, shuffle=True) \n",
        "  MD = Sequential()\n",
        "    # Добавляем слои\n",
        "  MD.add(Dense(800, input_dim= 784, activation=\"relu\")) \n",
        "  MD.add(Dense(N2, activation=\"relu\")) \n",
        "  MD.add(Dense(10, activation=\"softmax\"))\n",
        "  if verb == 1:\n",
        "    print( \"Размер обучающей выборки -\", x_t.shape, \" Размер проверочной выборки -\", x_p.shape) \n",
        "  # Компилируем сеть\n",
        "  MD.compile(loss=\"categorical_crossentropy\", optimizer=optim, metrics=['accuracy'])\n",
        " \n",
        "  List = MD.fit(x_t, y_t, batch_size= bs , epochs=15, validation_data = (x_p, y_p), verbose = verb)\n",
        "  if (x_tst):\n",
        "    x_test = x_tst\n",
        "    y_test = y_tst\n",
        "    print(\"Результат на тестовой выборке\")  \n",
        "    List = MD.evaluate(x_test, y_test) # Результат тренировочной выборки\n",
        "      \n",
        "\n",
        "    \n",
        "  return List "
      ],
      "execution_count": 46,
      "outputs": []
    },
    {
      "cell_type": "markdown",
      "metadata": {
        "id": "bkHMNrAidFEU"
      },
      "source": [
        "# Обучающая выборка 50000 примеров"
      ]
    },
    {
      "cell_type": "code",
      "metadata": {
        "id": "HX6IsMW51ot2",
        "outputId": "08f14716-78ce-4f42-f983-ab30d7ffcc18",
        "colab": {
          "base_uri": "https://localhost:8080/",
          "height": 834
        }
      },
      "source": [
        "# Задаем исходные гиперпараметры первой НС\n",
        "Xbase = x_train # задаём базу цифр для распознавания\n",
        "Ybase = y_train # задаём базу ответов\n",
        "bs = 128 # размер batch_size\n",
        "N2 = 400 # количество нейронов во втором слое\n",
        "optim = \"Adam\" # используемыЙ оптимайзер\n",
        "ts = 1/6 # размер проверочной выборки в отношении к 60000\n",
        "verb = 1 # отображение рассчета НС\n",
        "\n",
        "\n",
        "print(NS(bs, N2, optim, ts, Xbase, Ybase, verb, x_test, y_test))"
      ],
      "execution_count": 47,
      "outputs": [
        {
          "output_type": "stream",
          "text": [
            "Размер обучающей выборки - (50000, 784)  Размер проверочной выборки - (10000, 784)\n",
            "Epoch 1/15\n",
            "391/391 [==============================] - 1s 4ms/step - loss: 0.2267 - accuracy: 0.9326 - val_loss: 0.1106 - val_accuracy: 0.9671\n",
            "Epoch 2/15\n",
            "391/391 [==============================] - 1s 3ms/step - loss: 0.0834 - accuracy: 0.9747 - val_loss: 0.0973 - val_accuracy: 0.9700\n",
            "Epoch 3/15\n",
            "391/391 [==============================] - 1s 3ms/step - loss: 0.0528 - accuracy: 0.9838 - val_loss: 0.0841 - val_accuracy: 0.9740\n",
            "Epoch 4/15\n",
            "391/391 [==============================] - 1s 4ms/step - loss: 0.0342 - accuracy: 0.9892 - val_loss: 0.0790 - val_accuracy: 0.9775\n",
            "Epoch 5/15\n",
            "391/391 [==============================] - 1s 3ms/step - loss: 0.0277 - accuracy: 0.9909 - val_loss: 0.0736 - val_accuracy: 0.9769\n",
            "Epoch 6/15\n",
            "391/391 [==============================] - 1s 4ms/step - loss: 0.0222 - accuracy: 0.9927 - val_loss: 0.0826 - val_accuracy: 0.9781\n",
            "Epoch 7/15\n",
            "391/391 [==============================] - 1s 3ms/step - loss: 0.0201 - accuracy: 0.9929 - val_loss: 0.0908 - val_accuracy: 0.9772\n",
            "Epoch 8/15\n",
            "391/391 [==============================] - 1s 3ms/step - loss: 0.0151 - accuracy: 0.9951 - val_loss: 0.0888 - val_accuracy: 0.9774\n",
            "Epoch 9/15\n",
            "391/391 [==============================] - 1s 3ms/step - loss: 0.0118 - accuracy: 0.9960 - val_loss: 0.1057 - val_accuracy: 0.9765\n",
            "Epoch 10/15\n",
            "391/391 [==============================] - 1s 3ms/step - loss: 0.0127 - accuracy: 0.9954 - val_loss: 0.1088 - val_accuracy: 0.9745\n",
            "Epoch 11/15\n",
            "391/391 [==============================] - 1s 3ms/step - loss: 0.0125 - accuracy: 0.9961 - val_loss: 0.1024 - val_accuracy: 0.9795\n",
            "Epoch 12/15\n",
            "391/391 [==============================] - 1s 3ms/step - loss: 0.0115 - accuracy: 0.9965 - val_loss: 0.0984 - val_accuracy: 0.9796\n",
            "Epoch 13/15\n",
            "391/391 [==============================] - 1s 3ms/step - loss: 0.0114 - accuracy: 0.9963 - val_loss: 0.0993 - val_accuracy: 0.9797\n",
            "Epoch 14/15\n",
            "391/391 [==============================] - 1s 3ms/step - loss: 0.0087 - accuracy: 0.9972 - val_loss: 0.1074 - val_accuracy: 0.9784\n",
            "Epoch 15/15\n",
            "391/391 [==============================] - 1s 3ms/step - loss: 0.0097 - accuracy: 0.9968 - val_loss: 0.1158 - val_accuracy: 0.9771\n"
          ],
          "name": "stdout"
        },
        {
          "output_type": "error",
          "ename": "ValueError",
          "evalue": "ignored",
          "traceback": [
            "\u001b[0;31m---------------------------------------------------------------------------\u001b[0m",
            "\u001b[0;31mValueError\u001b[0m                                Traceback (most recent call last)",
            "\u001b[0;32m<ipython-input-47-2de9533ba0c3>\u001b[0m in \u001b[0;36m<module>\u001b[0;34m()\u001b[0m\n\u001b[1;32m      9\u001b[0m \u001b[0;34m\u001b[0m\u001b[0m\n\u001b[1;32m     10\u001b[0m \u001b[0;34m\u001b[0m\u001b[0m\n\u001b[0;32m---> 11\u001b[0;31m \u001b[0mprint\u001b[0m\u001b[0;34m(\u001b[0m\u001b[0mNS\u001b[0m\u001b[0;34m(\u001b[0m\u001b[0mbs\u001b[0m\u001b[0;34m,\u001b[0m \u001b[0mN2\u001b[0m\u001b[0;34m,\u001b[0m \u001b[0moptim\u001b[0m\u001b[0;34m,\u001b[0m \u001b[0mts\u001b[0m\u001b[0;34m,\u001b[0m \u001b[0mXbase\u001b[0m\u001b[0;34m,\u001b[0m \u001b[0mYbase\u001b[0m\u001b[0;34m,\u001b[0m \u001b[0mverb\u001b[0m\u001b[0;34m,\u001b[0m \u001b[0mx_test\u001b[0m\u001b[0;34m,\u001b[0m \u001b[0my_test\u001b[0m\u001b[0;34m)\u001b[0m\u001b[0;34m)\u001b[0m\u001b[0;34m\u001b[0m\u001b[0;34m\u001b[0m\u001b[0m\n\u001b[0m",
            "\u001b[0;32m<ipython-input-46-24af70f60bec>\u001b[0m in \u001b[0;36mNS\u001b[0;34m(bs, N2, optim, ts, Xbase, Ybase, verb, x_tst, y_tst)\u001b[0m\n\u001b[1;32m     24\u001b[0m \u001b[0;34m\u001b[0m\u001b[0m\n\u001b[1;32m     25\u001b[0m   \u001b[0mList\u001b[0m \u001b[0;34m=\u001b[0m \u001b[0mMD\u001b[0m\u001b[0;34m.\u001b[0m\u001b[0mfit\u001b[0m\u001b[0;34m(\u001b[0m\u001b[0mx_t\u001b[0m\u001b[0;34m,\u001b[0m \u001b[0my_t\u001b[0m\u001b[0;34m,\u001b[0m \u001b[0mbatch_size\u001b[0m\u001b[0;34m=\u001b[0m \u001b[0mbs\u001b[0m \u001b[0;34m,\u001b[0m \u001b[0mepochs\u001b[0m\u001b[0;34m=\u001b[0m\u001b[0;36m15\u001b[0m\u001b[0;34m,\u001b[0m \u001b[0mvalidation_data\u001b[0m \u001b[0;34m=\u001b[0m \u001b[0;34m(\u001b[0m\u001b[0mx_p\u001b[0m\u001b[0;34m,\u001b[0m \u001b[0my_p\u001b[0m\u001b[0;34m)\u001b[0m\u001b[0;34m,\u001b[0m \u001b[0mverbose\u001b[0m \u001b[0;34m=\u001b[0m \u001b[0mverb\u001b[0m\u001b[0;34m)\u001b[0m\u001b[0;34m\u001b[0m\u001b[0;34m\u001b[0m\u001b[0m\n\u001b[0;32m---> 26\u001b[0;31m   \u001b[0;32mif\u001b[0m \u001b[0;34m(\u001b[0m\u001b[0mx_tst\u001b[0m\u001b[0;34m)\u001b[0m\u001b[0;34m:\u001b[0m\u001b[0;34m\u001b[0m\u001b[0;34m\u001b[0m\u001b[0m\n\u001b[0m\u001b[1;32m     27\u001b[0m     \u001b[0mx_test\u001b[0m \u001b[0;34m=\u001b[0m \u001b[0mx_tst\u001b[0m\u001b[0;34m\u001b[0m\u001b[0;34m\u001b[0m\u001b[0m\n\u001b[1;32m     28\u001b[0m     \u001b[0my_test\u001b[0m \u001b[0;34m=\u001b[0m \u001b[0my_tst\u001b[0m\u001b[0;34m\u001b[0m\u001b[0;34m\u001b[0m\u001b[0m\n",
            "\u001b[0;31mValueError\u001b[0m: The truth value of an array with more than one element is ambiguous. Use a.any() or a.all()"
          ]
        }
      ]
    },
    {
      "cell_type": "markdown",
      "metadata": {
        "id": "KXQ3pCbje0Bg"
      },
      "source": [
        "# Обучающая выборка 10000 примеров"
      ]
    },
    {
      "cell_type": "code",
      "metadata": {
        "id": "BgWmxiZM-7EH",
        "outputId": "0aab289b-44e2-4eb2-e485-7439e45a35e0",
        "colab": {
          "base_uri": "https://localhost:8080/"
        }
      },
      "source": [
        "# Задаем исходные гиперпараметры первой НС\n",
        "Xbase = x_train # задаём базу цифр для распознавания\n",
        "Ybase = y_train # задаём базу ответов\n",
        "bs = 128 # размер batch_size\n",
        "N2 = 400 # количество нейронов во втором слое\n",
        "optim = \"Adam\" # используемыЙ оптимайзер\n",
        "ts = 5/6 # размер проверочной выборки в отношении к 60000\n",
        "verb = 1 # отображение рассчета НС\n",
        "\n",
        "NS(bs, N2, optim, ts, Xbase, Ybase, verb)"
      ],
      "execution_count": 8,
      "outputs": [
        {
          "output_type": "stream",
          "text": [
            "Размер обучающей выборки - (10000, 784)  Размер проверочной выборки - (50000, 784)\n",
            "Epoch 1/15\n",
            "79/79 [==============================] - 1s 15ms/step - loss: 0.4998 - accuracy: 0.8487 - val_loss: 0.2499 - val_accuracy: 0.9248\n",
            "Epoch 2/15\n",
            "79/79 [==============================] - 1s 13ms/step - loss: 0.1744 - accuracy: 0.9482 - val_loss: 0.1815 - val_accuracy: 0.9460\n",
            "Epoch 3/15\n",
            "79/79 [==============================] - 1s 14ms/step - loss: 0.1084 - accuracy: 0.9676 - val_loss: 0.1663 - val_accuracy: 0.9490\n",
            "Epoch 4/15\n",
            "79/79 [==============================] - 1s 14ms/step - loss: 0.0736 - accuracy: 0.9780 - val_loss: 0.1447 - val_accuracy: 0.9564\n",
            "Epoch 5/15\n",
            "79/79 [==============================] - 1s 14ms/step - loss: 0.0442 - accuracy: 0.9877 - val_loss: 0.1438 - val_accuracy: 0.9577\n",
            "Epoch 6/15\n",
            "79/79 [==============================] - 1s 13ms/step - loss: 0.0243 - accuracy: 0.9943 - val_loss: 0.1502 - val_accuracy: 0.9581\n",
            "Epoch 7/15\n",
            "79/79 [==============================] - 1s 14ms/step - loss: 0.0130 - accuracy: 0.9979 - val_loss: 0.1417 - val_accuracy: 0.9610\n",
            "Epoch 8/15\n",
            "79/79 [==============================] - 1s 14ms/step - loss: 0.0094 - accuracy: 0.9985 - val_loss: 0.1389 - val_accuracy: 0.9631\n",
            "Epoch 9/15\n",
            "79/79 [==============================] - 1s 14ms/step - loss: 0.0082 - accuracy: 0.9985 - val_loss: 0.1645 - val_accuracy: 0.9588\n",
            "Epoch 10/15\n",
            "79/79 [==============================] - 1s 14ms/step - loss: 0.0080 - accuracy: 0.9977 - val_loss: 0.1509 - val_accuracy: 0.9623\n",
            "Epoch 11/15\n",
            "79/79 [==============================] - 1s 14ms/step - loss: 0.0026 - accuracy: 0.9997 - val_loss: 0.1586 - val_accuracy: 0.9620\n",
            "Epoch 12/15\n",
            "79/79 [==============================] - 1s 14ms/step - loss: 0.0014 - accuracy: 1.0000 - val_loss: 0.1502 - val_accuracy: 0.9646\n",
            "Epoch 13/15\n",
            "79/79 [==============================] - 1s 14ms/step - loss: 7.1296e-04 - accuracy: 1.0000 - val_loss: 0.1527 - val_accuracy: 0.9648\n",
            "Epoch 14/15\n",
            "79/79 [==============================] - 1s 13ms/step - loss: 5.3684e-04 - accuracy: 1.0000 - val_loss: 0.1553 - val_accuracy: 0.9648\n",
            "Epoch 15/15\n",
            "79/79 [==============================] - 1s 13ms/step - loss: 4.5272e-04 - accuracy: 1.0000 - val_loss: 0.1569 - val_accuracy: 0.9646\n"
          ],
          "name": "stdout"
        },
        {
          "output_type": "execute_result",
          "data": {
            "text/plain": [
              "<tensorflow.python.keras.callbacks.History at 0x7f03c0187cc0>"
            ]
          },
          "metadata": {
            "tags": []
          },
          "execution_count": 8
        }
      ]
    },
    {
      "cell_type": "markdown",
      "metadata": {
        "id": "K3K4JXr5jMM3"
      },
      "source": [
        "# Обучающая выборка 500 примеров"
      ]
    },
    {
      "cell_type": "code",
      "metadata": {
        "id": "Ibddh6He_M4R",
        "outputId": "95b1e984-fd5c-4909-b933-f278dd45ce13",
        "colab": {
          "base_uri": "https://localhost:8080/"
        }
      },
      "source": [
        "# Задаем исходные гиперпараметры первой НС\n",
        "Xbase = x_train # задаём базу цифр для распознавания\n",
        "Ybase = y_train # задаём базу ответов\n",
        "bs = 128 # размер batch_size\n",
        "N2 = 400 # количество нейронов во втором слое\n",
        "optim = \"Adam\" # используемыЙ оптимайзер\n",
        "ts = 119/120 # размер проверочной выборки в отношении к 60000\n",
        "verb = 1 # отображение рассчета НС\n",
        "\n",
        "NS(bs, N2, optim, ts, Xbase, Ybase, verb)"
      ],
      "execution_count": 9,
      "outputs": [
        {
          "output_type": "stream",
          "text": [
            "Размер обучающей выборки - (500, 784)  Размер проверочной выборки - (59500, 784)\n",
            "Epoch 1/15\n",
            "4/4 [==============================] - 1s 273ms/step - loss: 1.9189 - accuracy: 0.3940 - val_loss: 1.2818 - val_accuracy: 0.7252\n",
            "Epoch 2/15\n",
            "4/4 [==============================] - 1s 263ms/step - loss: 0.9747 - accuracy: 0.7960 - val_loss: 0.7326 - val_accuracy: 0.7995\n",
            "Epoch 3/15\n",
            "4/4 [==============================] - 1s 260ms/step - loss: 0.5348 - accuracy: 0.8580 - val_loss: 0.5254 - val_accuracy: 0.8404\n",
            "Epoch 4/15\n",
            "4/4 [==============================] - 1s 266ms/step - loss: 0.3454 - accuracy: 0.9040 - val_loss: 0.4781 - val_accuracy: 0.8503\n",
            "Epoch 5/15\n",
            "4/4 [==============================] - 1s 271ms/step - loss: 0.2204 - accuracy: 0.9440 - val_loss: 0.4308 - val_accuracy: 0.8692\n",
            "Epoch 6/15\n",
            "4/4 [==============================] - 1s 270ms/step - loss: 0.1447 - accuracy: 0.9660 - val_loss: 0.4257 - val_accuracy: 0.8718\n",
            "Epoch 7/15\n",
            "4/4 [==============================] - 1s 268ms/step - loss: 0.0937 - accuracy: 0.9820 - val_loss: 0.4364 - val_accuracy: 0.8703\n",
            "Epoch 8/15\n",
            "4/4 [==============================] - 1s 263ms/step - loss: 0.0565 - accuracy: 0.9960 - val_loss: 0.4363 - val_accuracy: 0.8712\n",
            "Epoch 9/15\n",
            "4/4 [==============================] - 1s 251ms/step - loss: 0.0396 - accuracy: 0.9980 - val_loss: 0.4392 - val_accuracy: 0.8755\n",
            "Epoch 10/15\n",
            "4/4 [==============================] - 1s 252ms/step - loss: 0.0286 - accuracy: 1.0000 - val_loss: 0.4398 - val_accuracy: 0.8783\n",
            "Epoch 11/15\n",
            "4/4 [==============================] - 1s 268ms/step - loss: 0.0181 - accuracy: 1.0000 - val_loss: 0.4565 - val_accuracy: 0.8727\n",
            "Epoch 12/15\n",
            "4/4 [==============================] - 1s 276ms/step - loss: 0.0143 - accuracy: 1.0000 - val_loss: 0.4551 - val_accuracy: 0.8773\n",
            "Epoch 13/15\n",
            "4/4 [==============================] - 1s 271ms/step - loss: 0.0103 - accuracy: 1.0000 - val_loss: 0.4636 - val_accuracy: 0.8775\n",
            "Epoch 14/15\n",
            "4/4 [==============================] - 1s 260ms/step - loss: 0.0083 - accuracy: 1.0000 - val_loss: 0.4684 - val_accuracy: 0.8778\n",
            "Epoch 15/15\n",
            "4/4 [==============================] - 1s 268ms/step - loss: 0.0064 - accuracy: 1.0000 - val_loss: 0.4725 - val_accuracy: 0.8768\n"
          ],
          "name": "stdout"
        },
        {
          "output_type": "execute_result",
          "data": {
            "text/plain": [
              "<tensorflow.python.keras.callbacks.History at 0x7f03c0074860>"
            ]
          },
          "metadata": {
            "tags": []
          },
          "execution_count": 9
        }
      ]
    },
    {
      "cell_type": "markdown",
      "metadata": {
        "id": "SwtcYgX0mxVC"
      },
      "source": [
        "# Сравнение результатов на проверочной и тестовой выборках"
      ]
    },
    {
      "cell_type": "code",
      "metadata": {
        "id": "TmUPld7qA3Oz",
        "outputId": "8bc7eb34-5610-4421-8157-db721d2f9ceb",
        "colab": {
          "base_uri": "https://localhost:8080/"
        }
      },
      "source": [
        "# Задаем исходные гиперпараметры первой НС №1\n",
        "\n",
        "# Проводим рассчёт для проверочной выборки\n",
        "Xbase = x_train # задаём базу цифр для распознавания\n",
        "Ybase = y_train # задаём базу ответов\n",
        "bs = 200 # размер batch_size\n",
        "N2 = 600 # количество нейронов во втором слое\n",
        "optim = \"SGD\" # используемыЙ оптимайзер\n",
        "ts = 1/6 # размер проверочной выборки в отношении к 60000\n",
        "verb = 1 # отображение рассчета НС\n",
        "\n",
        "NS11 = NS(bs, N2, optim, ts, Xbase, Ybase, verb)"
      ],
      "execution_count": 10,
      "outputs": [
        {
          "output_type": "stream",
          "text": [
            "Размер обучающей выборки - (50000, 784)  Размер проверочной выборки - (10000, 784)\n",
            "Epoch 1/15\n",
            "250/250 [==============================] - 1s 4ms/step - loss: 1.4038 - accuracy: 0.7027 - val_loss: 0.8085 - val_accuracy: 0.8339\n",
            "Epoch 2/15\n",
            "250/250 [==============================] - 1s 3ms/step - loss: 0.6199 - accuracy: 0.8583 - val_loss: 0.5169 - val_accuracy: 0.8704\n",
            "Epoch 3/15\n",
            "250/250 [==============================] - 1s 3ms/step - loss: 0.4553 - accuracy: 0.8821 - val_loss: 0.4246 - val_accuracy: 0.8894\n",
            "Epoch 4/15\n",
            "250/250 [==============================] - 1s 3ms/step - loss: 0.3897 - accuracy: 0.8947 - val_loss: 0.3783 - val_accuracy: 0.8964\n",
            "Epoch 5/15\n",
            "250/250 [==============================] - 1s 3ms/step - loss: 0.3535 - accuracy: 0.9027 - val_loss: 0.3489 - val_accuracy: 0.9040\n",
            "Epoch 6/15\n",
            "250/250 [==============================] - 1s 3ms/step - loss: 0.3289 - accuracy: 0.9082 - val_loss: 0.3293 - val_accuracy: 0.9086\n",
            "Epoch 7/15\n",
            "250/250 [==============================] - 1s 3ms/step - loss: 0.3106 - accuracy: 0.9133 - val_loss: 0.3145 - val_accuracy: 0.9118\n",
            "Epoch 8/15\n",
            "250/250 [==============================] - 1s 3ms/step - loss: 0.2960 - accuracy: 0.9167 - val_loss: 0.3016 - val_accuracy: 0.9145\n",
            "Epoch 9/15\n",
            "250/250 [==============================] - 1s 3ms/step - loss: 0.2836 - accuracy: 0.9201 - val_loss: 0.2907 - val_accuracy: 0.9176\n",
            "Epoch 10/15\n",
            "250/250 [==============================] - 1s 3ms/step - loss: 0.2728 - accuracy: 0.9229 - val_loss: 0.2810 - val_accuracy: 0.9206\n",
            "Epoch 11/15\n",
            "250/250 [==============================] - 1s 3ms/step - loss: 0.2632 - accuracy: 0.9255 - val_loss: 0.2733 - val_accuracy: 0.9221\n",
            "Epoch 12/15\n",
            "250/250 [==============================] - 1s 3ms/step - loss: 0.2546 - accuracy: 0.9275 - val_loss: 0.2662 - val_accuracy: 0.9247\n",
            "Epoch 13/15\n",
            "250/250 [==============================] - 1s 3ms/step - loss: 0.2465 - accuracy: 0.9303 - val_loss: 0.2591 - val_accuracy: 0.9268\n",
            "Epoch 14/15\n",
            "250/250 [==============================] - 1s 3ms/step - loss: 0.2392 - accuracy: 0.9323 - val_loss: 0.2525 - val_accuracy: 0.9287\n",
            "Epoch 15/15\n",
            "250/250 [==============================] - 1s 3ms/step - loss: 0.2324 - accuracy: 0.9340 - val_loss: 0.2465 - val_accuracy: 0.9304\n"
          ],
          "name": "stdout"
        }
      ]
    },
    {
      "cell_type": "code",
      "metadata": {
        "id": "8fOgtuHRTqyZ",
        "outputId": "4845282d-0d94-46ed-af0c-33d71f85a69a",
        "colab": {
          "base_uri": "https://localhost:8080/",
          "height": 77
        }
      },
      "source": [
        "val = []\n",
        "val.append(NS11.history['val_accuracy'][14]) # значение точности проверочной выборки на последней эпохе\n",
        "TAB = pd.DataFrame(val) # записываем в сравнительную таблицу значение точности проверочной выборки на последней эпохе\n",
        "TAB"
      ],
      "execution_count": 11,
      "outputs": [
        {
          "output_type": "execute_result",
          "data": {
            "text/html": [
              "<div>\n",
              "<style scoped>\n",
              "    .dataframe tbody tr th:only-of-type {\n",
              "        vertical-align: middle;\n",
              "    }\n",
              "\n",
              "    .dataframe tbody tr th {\n",
              "        vertical-align: top;\n",
              "    }\n",
              "\n",
              "    .dataframe thead th {\n",
              "        text-align: right;\n",
              "    }\n",
              "</style>\n",
              "<table border=\"1\" class=\"dataframe\">\n",
              "  <thead>\n",
              "    <tr style=\"text-align: right;\">\n",
              "      <th></th>\n",
              "      <th>0</th>\n",
              "    </tr>\n",
              "  </thead>\n",
              "  <tbody>\n",
              "    <tr>\n",
              "      <th>0</th>\n",
              "      <td>0.9304</td>\n",
              "    </tr>\n",
              "  </tbody>\n",
              "</table>\n",
              "</div>"
            ],
            "text/plain": [
              "        0\n",
              "0  0.9304"
            ]
          },
          "metadata": {
            "tags": []
          },
          "execution_count": 11
        }
      ]
    },
    {
      "cell_type": "code",
      "metadata": {
        "id": "2_ptJzTnmgBd",
        "outputId": "edf63720-477f-4347-8a60-033a67364b12",
        "colab": {
          "base_uri": "https://localhost:8080/"
        }
      },
      "source": [
        "# Задаем исходные гиперпараметры первой НС №2\n",
        "\n",
        "# Проводим рассчёт для проверочной выборки\n",
        "Xbase = x_train # задаём базу цифр для распознавания\n",
        "Ybase = y_train # задаём базу ответов\n",
        "bs = 1000 # размер batch_size\n",
        "N2 = 800 # количество нейронов во втором слое\n",
        "optim = \"Nadam\" # используемыЙ оптимайзер\n",
        "ts = 1/6 # размер проверочной выборки в отношении к 60000\n",
        "verb = 1 # отображение рассчета НС\n",
        "\n",
        "NS21 = NS(bs, N2, optim, ts, Xbase, Ybase, verb)"
      ],
      "execution_count": 12,
      "outputs": [
        {
          "output_type": "stream",
          "text": [
            "Размер обучающей выборки - (50000, 784)  Размер проверочной выборки - (10000, 784)\n",
            "Epoch 1/15\n",
            "50/50 [==============================] - 0s 10ms/step - loss: 0.5076 - accuracy: 0.8540 - val_loss: 0.2054 - val_accuracy: 0.9416\n",
            "Epoch 2/15\n",
            "50/50 [==============================] - 0s 7ms/step - loss: 0.1548 - accuracy: 0.9545 - val_loss: 0.1369 - val_accuracy: 0.9611\n",
            "Epoch 3/15\n",
            "50/50 [==============================] - 0s 6ms/step - loss: 0.1021 - accuracy: 0.9700 - val_loss: 0.1132 - val_accuracy: 0.9649\n",
            "Epoch 4/15\n",
            "50/50 [==============================] - 0s 6ms/step - loss: 0.0698 - accuracy: 0.9793 - val_loss: 0.1010 - val_accuracy: 0.9703\n",
            "Epoch 5/15\n",
            "50/50 [==============================] - 0s 6ms/step - loss: 0.0499 - accuracy: 0.9854 - val_loss: 0.0883 - val_accuracy: 0.9740\n",
            "Epoch 6/15\n",
            "50/50 [==============================] - 0s 6ms/step - loss: 0.0608 - accuracy: 0.9837 - val_loss: 2.6474 - val_accuracy: 0.6675\n",
            "Epoch 7/15\n",
            "50/50 [==============================] - 0s 6ms/step - loss: 0.2748 - accuracy: 0.9500 - val_loss: 0.1013 - val_accuracy: 0.9699\n",
            "Epoch 8/15\n",
            "50/50 [==============================] - 0s 6ms/step - loss: 0.0392 - accuracy: 0.9883 - val_loss: 0.0875 - val_accuracy: 0.9751\n",
            "Epoch 9/15\n",
            "50/50 [==============================] - 0s 6ms/step - loss: 0.0256 - accuracy: 0.9931 - val_loss: 0.0821 - val_accuracy: 0.9766\n",
            "Epoch 10/15\n",
            "50/50 [==============================] - 0s 6ms/step - loss: 0.0185 - accuracy: 0.9957 - val_loss: 0.0811 - val_accuracy: 0.9767\n",
            "Epoch 11/15\n",
            "50/50 [==============================] - 0s 6ms/step - loss: 0.0130 - accuracy: 0.9976 - val_loss: 0.0808 - val_accuracy: 0.9761\n",
            "Epoch 12/15\n",
            "50/50 [==============================] - 0s 6ms/step - loss: 0.0094 - accuracy: 0.9984 - val_loss: 0.0856 - val_accuracy: 0.9759\n",
            "Epoch 13/15\n",
            "50/50 [==============================] - 0s 6ms/step - loss: 0.0069 - accuracy: 0.9992 - val_loss: 0.0848 - val_accuracy: 0.9770\n",
            "Epoch 14/15\n",
            "50/50 [==============================] - 0s 6ms/step - loss: 0.0052 - accuracy: 0.9995 - val_loss: 0.0840 - val_accuracy: 0.9769\n",
            "Epoch 15/15\n",
            "50/50 [==============================] - 0s 6ms/step - loss: 0.0039 - accuracy: 0.9996 - val_loss: 0.0864 - val_accuracy: 0.9779\n"
          ],
          "name": "stdout"
        }
      ]
    },
    {
      "cell_type": "code",
      "metadata": {
        "id": "lcPnwH-oyEkI",
        "outputId": "69962002-9085-4018-ecd7-95c29c1af2bb",
        "colab": {
          "base_uri": "https://localhost:8080/",
          "height": 106
        }
      },
      "source": [
        "val.append(NS21.history['val_accuracy'][14]) # значение точности проверочной выборки на последней эпохе заносим в список\n",
        "TAB = pd.DataFrame(val) # записываем в сравнительную таблицу значение точности проверочной выборки на последней эпохе\n",
        "TAB"
      ],
      "execution_count": 13,
      "outputs": [
        {
          "output_type": "execute_result",
          "data": {
            "text/html": [
              "<div>\n",
              "<style scoped>\n",
              "    .dataframe tbody tr th:only-of-type {\n",
              "        vertical-align: middle;\n",
              "    }\n",
              "\n",
              "    .dataframe tbody tr th {\n",
              "        vertical-align: top;\n",
              "    }\n",
              "\n",
              "    .dataframe thead th {\n",
              "        text-align: right;\n",
              "    }\n",
              "</style>\n",
              "<table border=\"1\" class=\"dataframe\">\n",
              "  <thead>\n",
              "    <tr style=\"text-align: right;\">\n",
              "      <th></th>\n",
              "      <th>0</th>\n",
              "    </tr>\n",
              "  </thead>\n",
              "  <tbody>\n",
              "    <tr>\n",
              "      <th>0</th>\n",
              "      <td>0.9304</td>\n",
              "    </tr>\n",
              "    <tr>\n",
              "      <th>1</th>\n",
              "      <td>0.9779</td>\n",
              "    </tr>\n",
              "  </tbody>\n",
              "</table>\n",
              "</div>"
            ],
            "text/plain": [
              "        0\n",
              "0  0.9304\n",
              "1  0.9779"
            ]
          },
          "metadata": {
            "tags": []
          },
          "execution_count": 13
        }
      ]
    },
    {
      "cell_type": "code",
      "metadata": {
        "id": "JWFb0BiqOqtI",
        "outputId": "b0f5d561-333b-4aa1-c658-e9814e5b8b7c",
        "colab": {
          "base_uri": "https://localhost:8080/"
        }
      },
      "source": [
        "# Проводим рассчёт для тестовой выборки для НС №1\n",
        "Xbase = x_test # задаём базу цифр для распознавания\n",
        "Ybase = y_test # задаём базу ответов\n",
        "bs = 200 # размер batch_size\n",
        "N2 = 600 # количество нейронов во втором слое\n",
        "optim = \"SGD\" # используемыЙ оптимайзер\n",
        "ts = 1/6 # размер проверочной выборки в отношении к 60000\n",
        "verb = 0 # отображение рассчета НС\n",
        "\n",
        "NS12 = NS(bs, N2, optim, ts, Xbase, Ybase, verb)"
      ],
      "execution_count": 21,
      "outputs": [
        {
          "output_type": "stream",
          "text": [
            "261/261 [==============================] - 0s 2ms/step - loss: 0.4204 - accuracy: 0.8948\n",
            "Результат на тестовой выборке [0.4203817546367645, 0.8947557806968689]\n"
          ],
          "name": "stdout"
        }
      ]
    },
    {
      "cell_type": "code",
      "metadata": {
        "id": "oMMVUH2XpUTN",
        "outputId": "10bbebd3-b723-4dc8-9ccd-1992b6a04f8d",
        "colab": {
          "base_uri": "https://localhost:8080/"
        }
      },
      "source": [
        "test = []\n",
        "test.append(NS12.history['val_accuracy'][-1]) # значение точности проверочной выборки на последней эпохе заносим в список\n",
        "#TAB = pd.concat([val, test], ignore_index = True) # записываем в сравнительную таблицу значение точности проверочной выборки на последней эпохе\n",
        "#TAB\n",
        "test"
      ],
      "execution_count": 28,
      "outputs": [
        {
          "output_type": "execute_result",
          "data": {
            "text/plain": [
              "[0.9028194546699524]"
            ]
          },
          "metadata": {
            "tags": []
          },
          "execution_count": 28
        }
      ]
    },
    {
      "cell_type": "code",
      "metadata": {
        "id": "s_A5sIuzPEr8",
        "outputId": "34dd4e15-b10f-42b5-8b14-7a518f1a8964",
        "colab": {
          "base_uri": "https://localhost:8080/"
        }
      },
      "source": [
        "# Проводим рассчёт для тестовой выборки для НС №2\n",
        "Xbase = x_test # задаём базу цифр для распознавания\n",
        "Ybase = y_test # задаём базу ответов\n",
        "bs = 1000 # размер batch_size\n",
        "N2 = 800 # количество нейронов во втором слое\n",
        "optim = \"Nadam\" # используемыЙ оптимайзер\n",
        "ts = 1/6 # размер проверочной выборки в отношении к 60000\n",
        "verb = 1 # отображение рассчета НС\n",
        "\n",
        "NS22 = NS(bs, N2, optim, ts, Xbase, Ybase, verb)"
      ],
      "execution_count": 31,
      "outputs": [
        {
          "output_type": "stream",
          "text": [
            "Размер обучающей выборки - (8333, 784)  Размер проверочной выборки - (1667, 784)\n",
            "Epoch 1/15\n",
            "9/9 [==============================] - 0s 20ms/step - loss: 1.3290 - accuracy: 0.6334 - val_loss: 0.6176 - val_accuracy: 0.8116\n",
            "Epoch 2/15\n",
            "9/9 [==============================] - 0s 10ms/step - loss: 0.4913 - accuracy: 0.8511 - val_loss: 0.4212 - val_accuracy: 0.8638\n",
            "Epoch 3/15\n",
            "9/9 [==============================] - 0s 10ms/step - loss: 0.3518 - accuracy: 0.8924 - val_loss: 0.2839 - val_accuracy: 0.9154\n",
            "Epoch 4/15\n",
            "9/9 [==============================] - 0s 9ms/step - loss: 0.2241 - accuracy: 0.9342 - val_loss: 0.2474 - val_accuracy: 0.9274\n",
            "Epoch 5/15\n",
            "9/9 [==============================] - 0s 9ms/step - loss: 0.1800 - accuracy: 0.9464 - val_loss: 0.2632 - val_accuracy: 0.9178\n",
            "Epoch 6/15\n",
            "9/9 [==============================] - 0s 9ms/step - loss: 0.1440 - accuracy: 0.9575 - val_loss: 0.1876 - val_accuracy: 0.9496\n",
            "Epoch 7/15\n",
            "9/9 [==============================] - 0s 9ms/step - loss: 0.1160 - accuracy: 0.9648 - val_loss: 0.2286 - val_accuracy: 0.9286\n",
            "Epoch 8/15\n",
            "9/9 [==============================] - 0s 8ms/step - loss: 0.1008 - accuracy: 0.9695 - val_loss: 0.1760 - val_accuracy: 0.9472\n",
            "Epoch 9/15\n",
            "9/9 [==============================] - 0s 9ms/step - loss: 0.0676 - accuracy: 0.9820 - val_loss: 0.1754 - val_accuracy: 0.9484\n",
            "Epoch 10/15\n",
            "9/9 [==============================] - 0s 8ms/step - loss: 0.0538 - accuracy: 0.9885 - val_loss: 0.1670 - val_accuracy: 0.9532\n",
            "Epoch 11/15\n",
            "9/9 [==============================] - 0s 8ms/step - loss: 0.0437 - accuracy: 0.9909 - val_loss: 0.1640 - val_accuracy: 0.9550\n",
            "Epoch 12/15\n",
            "9/9 [==============================] - 0s 8ms/step - loss: 0.4822 - accuracy: 0.9017 - val_loss: 0.2661 - val_accuracy: 0.9184\n",
            "Epoch 13/15\n",
            "9/9 [==============================] - 0s 8ms/step - loss: 0.1145 - accuracy: 0.9749 - val_loss: 0.1624 - val_accuracy: 0.9544\n",
            "Epoch 14/15\n",
            "9/9 [==============================] - 0s 8ms/step - loss: 0.0690 - accuracy: 0.9846 - val_loss: 0.1499 - val_accuracy: 0.9574\n",
            "Epoch 15/15\n",
            "9/9 [==============================] - 0s 7ms/step - loss: 0.0461 - accuracy: 0.9906 - val_loss: 0.1489 - val_accuracy: 0.9574\n"
          ],
          "name": "stdout"
        }
      ]
    },
    {
      "cell_type": "code",
      "metadata": {
        "id": "QzPviFwbXeAq",
        "outputId": "fca60ca4-0959-486a-add3-ac018c9a1f77",
        "colab": {
          "base_uri": "https://localhost:8080/"
        }
      },
      "source": [
        "\n",
        "test.append(NS22.history['val_accuracy'][-1])\n",
        "test"
      ],
      "execution_count": 33,
      "outputs": [
        {
          "output_type": "execute_result",
          "data": {
            "text/plain": [
              "[0.9028194546699524,\n",
              " 0.9634073376655579,\n",
              " 0.9969998598098755,\n",
              " 0.9906396269798279,\n",
              " 0.9574085474014282]"
            ]
          },
          "metadata": {
            "tags": []
          },
          "execution_count": 33
        }
      ]
    },
    {
      "cell_type": "markdown",
      "metadata": {
        "id": "Hz3xxeDeeJiX"
      },
      "source": [
        "# PRO"
      ]
    },
    {
      "cell_type": "code",
      "metadata": {
        "id": "f0cqyoEuqGC8",
        "outputId": "2f66b49b-3be6-4191-8f60-746cf474d492",
        "colab": {
          "base_uri": "https://localhost:8080/",
          "height": 134
        }
      },
      "source": [
        "x_train"
      ],
      "execution_count": null,
      "outputs": [
        {
          "output_type": "execute_result",
          "data": {
            "text/plain": [
              "array([[0., 0., 0., ..., 0., 0., 0.],\n",
              "       [0., 0., 0., ..., 0., 0., 0.],\n",
              "       [0., 0., 0., ..., 0., 0., 0.],\n",
              "       ...,\n",
              "       [0., 0., 0., ..., 0., 0., 0.],\n",
              "       [0., 0., 0., ..., 0., 0., 0.],\n",
              "       [0., 0., 0., ..., 0., 0., 0.]], dtype=float32)"
            ]
          },
          "metadata": {
            "tags": []
          },
          "execution_count": 188
        }
      ]
    },
    {
      "cell_type": "code",
      "metadata": {
        "id": "HA7AgfzNhBhS"
      },
      "source": [
        "# Считываем csv с помощью pandas\n",
        "cars = pd.read_csv('/content/drive/My Drive/Базы/cars_new.csv', sep=',')\n",
        "cars[:5] # Выводим первые 5 машин "
      ],
      "execution_count": null,
      "outputs": []
    },
    {
      "cell_type": "code",
      "metadata": {
        "id": "X5wUaYY6iAyY"
      },
      "source": [
        "# Создаём словарь поле - его индекс\n",
        "def create_dict(s):\n",
        "  ret = {}                          # Создаём пустой словарь\n",
        "  for _id, name in enumerate(s):    # Проходим по всем парам - id и название\n",
        "    ret.update({name: _id})         # Добавляем в словарь\n",
        "  return ret\n",
        "\n",
        "# Функция преобразования в one hot encoding\n",
        "def to_ohe(value, d):\n",
        "  arr = [0] * len(d)\n",
        "  arr[d[value]] = 1\n",
        "  return arr"
      ],
      "execution_count": null,
      "outputs": []
    },
    {
      "cell_type": "code",
      "metadata": {
        "id": "gsdodKsyiCKf"
      },
      "source": [
        "# Создаём словари по всем текстовым колонкам\n",
        "marks_dict = create_dict(set(cars['mark']))\n",
        "models_dict = create_dict(set(cars['model']))\n",
        "bodies_dict = create_dict(set(cars['body']))\n",
        "kpps_dict = create_dict(set(cars['kpp']))\n",
        "fuels_dict = create_dict(set(cars['fuel']))\n",
        "\n",
        "# Запоминаем цены\n",
        "prices = np.array(cars['price'], dtype=np.float)\n",
        "\n",
        "# Запоминаем числовые параметры\n",
        "# и нормируем\n",
        "years = preprocessing.scale(cars['year'])\n",
        "mileages = preprocessing.scale(cars['mileage'])\n",
        "volumes = preprocessing.scale(cars['volume'])\n",
        "powers = preprocessing.scale(cars['power'])"
      ],
      "execution_count": null,
      "outputs": []
    },
    {
      "cell_type": "code",
      "metadata": {
        "id": "8hi7Ces0iDVu"
      },
      "source": [
        "# Создаём пустую обучающую выборку\n",
        "x_train = []\n",
        "y_train = []\n",
        "\n",
        "# Проходам по всем машинам\n",
        "for _id, car in enumerate(np.array(cars)):\n",
        "  # В y_train добавляем цену\n",
        "  y_train.append(prices[_id])\n",
        "  \n",
        "  # В x_train объединяем все параметры\n",
        "  # Категорийные параметры добавляем в виде ohe\n",
        "  # Числовые параметры добавляем напрямую\n",
        "  x_tr = to_ohe(car[0], marks_dict) + \\\n",
        "        to_ohe(car[1], models_dict) + \\\n",
        "        to_ohe(car[5], bodies_dict) + \\\n",
        "        to_ohe(car[6], kpps_dict) + \\\n",
        "        to_ohe(car[7], fuels_dict) + \\\n",
        "        [years[_id]] + \\\n",
        "        [mileages[_id]] + \\\n",
        "        [volumes[_id]] + \\\n",
        "        [powers[_id]]\n",
        "  \n",
        "  # Добавляем текущую строку в общий x_train\n",
        "  x_train.append(x_tr)\n",
        "\n",
        "# Превращаем лист в numpy.array\n",
        "x_train = np.array(x_train, dtype=np.float)\n",
        "y_train = np.array(y_train, dtype=np.float)"
      ],
      "execution_count": null,
      "outputs": []
    },
    {
      "cell_type": "code",
      "metadata": {
        "id": "oarjq2u1iFbw"
      },
      "source": [
        "# Нормализуем y_train\n",
        "y_scaler = StandardScaler()\n",
        "y_train_scaled = y_scaler.fit_transform(y_train.reshape(-1,1)).flatten()"
      ],
      "execution_count": null,
      "outputs": []
    },
    {
      "cell_type": "code",
      "metadata": {
        "id": "KjCGiOUekast"
      },
      "source": [
        "xTrain, xTest, yTrain, yTest = train_test_split(x_train, y_train_scaled, test_size=0.05, shuffle = True)\n",
        "xTrain, xVal, yTrain, yVal = train_test_split(xTrain, yTrain, test_size = 0.05, shuffle=True)\n",
        "print(xTrain.shape)\n",
        "print(xVal.shape)\n",
        "print(xTest.shape)\n",
        "print(yTrain.shape)\n",
        "print(yVal.shape)\n",
        "print(yTest.shape)"
      ],
      "execution_count": null,
      "outputs": []
    },
    {
      "cell_type": "code",
      "metadata": {
        "id": "lCkx3QAoytqW"
      },
      "source": [
        "np.save('xTrain',xTrain)\n",
        "np.save('xVal',xVal)\n",
        "np.save('xTest',xTest)\n",
        "np.save('yTrain',yTrain)\n",
        "np.save('yVal',yVal)\n",
        "np.save('yTest',yTest)"
      ],
      "execution_count": null,
      "outputs": []
    },
    {
      "cell_type": "code",
      "metadata": {
        "id": "SGWI76xfy-GI"
      },
      "source": [
        "xTrain = np.load('xTrain.npy')\n",
        "xVal = np.load('xVal.npy')\n",
        "xTest = np.load('xTest.npy')\n",
        "yTrain = np.load('yTrain.npy')\n",
        "yVal = np.load('yVal.npy')\n",
        "yTest = np.load('yTest.npy')"
      ],
      "execution_count": null,
      "outputs": []
    },
    {
      "cell_type": "code",
      "metadata": {
        "id": "MNAF1L3B72Va"
      },
      "source": [
        "activation_list = ['linear','relu','tanh','softmax','sigmoid', 'elu']"
      ],
      "execution_count": null,
      "outputs": []
    },
    {
      "cell_type": "code",
      "metadata": {
        "id": "Esr7jP5SLZq0"
      },
      "source": [
        "def create_model(dense1_filters, use_dropout1, dropout1_value, use_bn1, dense1_activation, dense2_filters, use_dropout2, dropout2_value, use_bn2, dense2_activation):\n",
        "  model = Sequential()\n",
        "  model.add(Dense(dense1_filters, activation=activation_list[dense1_activation]))\n",
        "  if (use_dropout1):\n",
        "    model.add(Dropout(dropout1_value))\n",
        "  if (use_bn1):\n",
        "    model.add(BatchNormalization())\n",
        "  model.add(Dense(dense2_filters, activation=activation_list[dense2_activation]))\n",
        "  if (use_dropout2):\n",
        "    model.add(Dropout(dropout2_value))\n",
        "  if (use_bn2):\n",
        "    model.add(BatchNormalization())\n",
        "  model.add(Dense(1, activation='linear'))\n",
        "  return model\n",
        "\n",
        "def train_model(num_epoch, len, dense1_filters, use_dropout1, dropout1_value, use_bn1, dense1_activation, dense2_filters, use_dropout2, dropout2_value, use_bn2, dense2_activation):  \n",
        "  total = 0\n",
        "  model = create_model(dense1_filters, use_dropout1, dropout1_value, use_bn1, dense1_activation, dense2_filters, use_dropout2, dropout2_value, use_bn2, dense2_activation)\n",
        "  for i in range(num_epoch):\n",
        "    model.compile(optimizer='adam', loss='mse')\n",
        "    history = model.fit(xTrain[:len], yTrain[:len], batch_size = 128, epochs= 10, verbose=0, validation_data = (xVal, yVal))\n",
        "    total += float(history.history['val_loss'][-1])\n",
        "  print('*** Результат теста ***')\n",
        "  print('Модель')\n",
        "  print('Dense(', dense1_filters,', activation=\\'', activation_list[dense1_activation],'\\')', sep='')\n",
        "  if (use_dropout1):\n",
        "    print('Dropout(',dropout1_value,')',sep='')\n",
        "  if (use_bn1):\n",
        "    print('BatchNormalization()')\n",
        "  print('Dense(', dense2_filters,', activation=\\'', activation_list[dense2_activation],'\\')',sep='')\n",
        "  if (use_dropout2):\n",
        "    print('Dropout(',dropout2_value,')',sep='')\n",
        "  if (use_bn2):\n",
        "    print('BatchNormalization()')\n",
        "  print('Dense(1, activation=\\'linear\\'')\n",
        "  print()\n",
        "  print(' -------------- ТОЧНОСТЬ МОДЕЛИ: ', round(total/num_epoch, 4),'---------------------')\n",
        "\n",
        "\n"
      ],
      "execution_count": null,
      "outputs": []
    },
    {
      "cell_type": "code",
      "metadata": {
        "id": "U-kIAAW-MTt2"
      },
      "source": [
        "dense1_filters = [16, 32, 64]\n",
        "use_dropout1 = [True, False]\n",
        "dropout1_value = [0.1, 0.2, 0.3, 0.4]\n",
        "use_bn1 = [True, False]\n",
        "dense1_activation = [0,1,2,3,4,5]\n",
        "dense2_filters = [16, 32, 64]\n",
        "use_dropout2 = [True, False]\n",
        "dropout2_value = [0.1, 0.2, 0.3, 0.4]\n",
        "use_bn2 = [True, False]\n",
        "dense2_activation = [0,1,2,3,4,5]"
      ],
      "execution_count": null,
      "outputs": []
    },
    {
      "cell_type": "code",
      "metadata": {
        "id": "pzRGw5KcNBuY"
      },
      "source": [
        "for param1 in dense1_filters:\n",
        "  for param2 in use_dropout1:\n",
        "    for param3 in dropout1_value:\n",
        "      for param4 in use_bn1:\n",
        "        for param5 in dense1_activation:\n",
        "          for param6 in dense2_filters:\n",
        "            for param7 in use_dropout2:\n",
        "              for param8 in dropout2_value:\n",
        "                for param9 in use_bn2:\n",
        "                  print('###################')\n",
        "                  for param10 in dense2_activation:\n",
        "                    train_model(5, 15000, param1, param2, param3, param4, param5, param6, param7, param8, param9, param10)"
      ],
      "execution_count": null,
      "outputs": []
    },
    {
      "cell_type": "code",
      "metadata": {
        "id": "FvqNQsXLpW1F"
      },
      "source": [
        "for param1 in dense1_filters:\n",
        "  for param2 in use_dropout1:\n",
        "    for param3 in dropout1_value:\n",
        "      for param4 in use_bn1:\n",
        "        for param5 in dense1_activation:\n",
        "          for param6 in dense2_filters:\n",
        "            for param7 in use_dropout2:\n",
        "              for param8 in dropout2_value:\n",
        "                for param9 in use_bn2:\n",
        "                  print('###################')\n",
        "                  for param10 in dense2_activation:\n",
        "                    train_model(5, 15000, param1, param2, param3, param4, param5, param6, param7, param8, param9, param10)"
      ],
      "execution_count": null,
      "outputs": []
    },
    {
      "cell_type": "code",
      "metadata": {
        "id": "njEvFOJJNcN7"
      },
      "source": [
        "for param10 in [1,3,5]:  \n",
        "  for param7 in use_dropout2:\n",
        "    for param8 in dropout2_value:\n",
        "      for param9 in use_bn2:\n",
        "        for param1 in dense1_filters:\n",
        "          for param2 in use_dropout1:\n",
        "            for param3 in dropout1_value:\n",
        "              for param4 in use_bn1:\n",
        "                for param5 in dense1_activation:\n",
        "                  for param6 in dense2_filters:\n",
        "                    print('###################')                  \n",
        "                    train_model(5, 15000, param1, param2, param3, param4, param5, param6, param7, param8, param9, param10)"
      ],
      "execution_count": null,
      "outputs": []
    },
    {
      "cell_type": "code",
      "metadata": {
        "id": "qKUbTFb8pA_b"
      },
      "source": [
        "for param10 in [1,3,5]:  \n",
        "  for param7 in use_dropout2:\n",
        "    for param8 in dropout2_value:\n",
        "      for param9 in use_bn2:        \n",
        "        for param6 in [64]:\n",
        "          for param1 in dense1_filters:\n",
        "            for param2 in use_dropout1:\n",
        "              for param3 in dropout1_value:\n",
        "                for param4 in use_bn1:\n",
        "                  for param5 in dense1_activation:\n",
        "                      print('###################')                  \n",
        "                      train_model(5, 15000, param1, param2, param3, param4, param5, param6, param7, param8, param9, param10)"
      ],
      "execution_count": null,
      "outputs": []
    },
    {
      "cell_type": "code",
      "metadata": {
        "id": "nY64GBKxyxWO"
      },
      "source": [
        "for param10 in [1,3,5]:  \n",
        "  for param5 in [1,5]:\n",
        "    for param7 in use_dropout2:\n",
        "      for param8 in dropout2_value:\n",
        "        for param9 in use_bn2:        \n",
        "          for param6 in [64]:\n",
        "            for param1 in dense1_filters:\n",
        "              for param2 in use_dropout1:\n",
        "                for param3 in dropout1_value:\n",
        "                  for param4 in use_bn1:                  \n",
        "                      print('###################')                  \n",
        "                      train_model(5, 15000, param1, param2, param3, param4, param5, param6, param7, param8, param9, param10)"
      ],
      "execution_count": null,
      "outputs": []
    },
    {
      "cell_type": "code",
      "metadata": {
        "id": "yOcVMqY52hG3"
      },
      "source": [
        "model = Sequential()\n",
        "model.add(Dense(57, activation='relu'))\n",
        "model.add(Dense(62, activation='relu'))\n",
        "model.add(Dense(1, activation='elu'))\n",
        "\n",
        "model.compile(optimizer=Adam(lr=1e-3),\n",
        "                  loss='mse')\n",
        "\n",
        "history = model.fit(xTrain,\n",
        "                      yTrain,\n",
        "                    epochs=10, \n",
        "                    batch_size = 128,\n",
        "                    verbose=1,\n",
        "                    validation_data=(xVal, yVal))\n",
        "          "
      ],
      "execution_count": null,
      "outputs": []
    },
    {
      "cell_type": "code",
      "metadata": {
        "id": "sy4VlzTqc5M6"
      },
      "source": [
        "from IPython.display import clear_output\n",
        "import time\n",
        "for i in range(10):\n",
        "  print(i)\n",
        "  clear_output(wait=True)\n",
        "  time.sleep(1)"
      ],
      "execution_count": null,
      "outputs": []
    },
    {
      "cell_type": "code",
      "metadata": {
        "id": "D3MNCHBH3XBK"
      },
      "source": [
        "model.compile(optimizer=Adam(lr=1e-4),\n",
        "                  loss='mse',\n",
        "                 )\n",
        "\n",
        "history = model.fit(xTrain,\n",
        "                      yTrain,\n",
        "                    epochs=20, \n",
        "                    batch_size = 128,\n",
        "                    verbose=1,\n",
        "                    validation_data=(xVal, yVal))"
      ],
      "execution_count": null,
      "outputs": []
    },
    {
      "cell_type": "code",
      "metadata": {
        "id": "Ta7qVAWq5JnK"
      },
      "source": [
        "model.compile(optimizer=Adam(lr=1e-6),\n",
        "                  loss='mse',\n",
        "                 )\n",
        "\n",
        "history = model.fit(xTrain,\n",
        "                      yTrain,\n",
        "                    epochs=10, \n",
        "                    batch_size = 128,\n",
        "                    verbose=1,\n",
        "                    validation_data=(xVal, yVal))"
      ],
      "execution_count": null,
      "outputs": []
    },
    {
      "cell_type": "code",
      "metadata": {
        "id": "XV8IKaxW3fGh"
      },
      "source": [
        "predict = model.predict(xTest)\n",
        "predict_inverse = y_scaler.inverse_transform(predict).flatten()\n",
        "yTrainReal = y_scaler.inverse_transform(yTest).flatten()"
      ],
      "execution_count": null,
      "outputs": []
    },
    {
      "cell_type": "code",
      "metadata": {
        "id": "96BXfv798IKN"
      },
      "source": [
        "total_loss = 0\n",
        "for i in range(yTrainReal.shape[0]):\n",
        "  total_loss += abs(yTrainReal[i] - predict_inverse[i]) / yTrainReal[i]\n",
        "print(round(100*total_loss/yTrainReal.shape[0],2))\n"
      ],
      "execution_count": null,
      "outputs": []
    },
    {
      "cell_type": "code",
      "metadata": {
        "id": "wQ9eTCd74F_x"
      },
      "source": [
        "delta = yTrainReal - predict_inverse\n",
        "abs_delta = abs(delta)\n",
        "mean_delta = sum(abs_delta)/len(abs_delta)\n",
        "mean_price = sum(yTrainReal)/len(yTrainReal)\n",
        "print(\"Средняя ошибка: \", round(mean_delta))\n",
        "print(\"Средняя цена: \", round(mean_price))\n",
        "print(\"Процент ошибки: \", round(100*mean_delta / mean_price,2), \"%\", sep=\"\")"
      ],
      "execution_count": null,
      "outputs": []
    },
    {
      "cell_type": "code",
      "metadata": {
        "id": "l0PhGy8W4Khw"
      },
      "source": [
        ""
      ],
      "execution_count": null,
      "outputs": []
    }
  ]
}