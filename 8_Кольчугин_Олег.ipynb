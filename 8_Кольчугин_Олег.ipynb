{
  "nbformat": 4,
  "nbformat_minor": 0,
  "metadata": {
    "colab": {
      "name": "8 Кольчугин Олег",
      "provenance": [],
      "collapsed_sections": [
        "3Mq5CACckeYC"
      ],
      "include_colab_link": true
    },
    "kernelspec": {
      "name": "python3",
      "display_name": "Python 3"
    }
  },
  "cells": [
    {
      "cell_type": "markdown",
      "metadata": {
        "id": "view-in-github",
        "colab_type": "text"
      },
      "source": [
        "<a href=\"https://colab.research.google.com/github/Rusagor/WP/blob/master/8_%D0%9A%D0%BE%D0%BB%D1%8C%D1%87%D1%83%D0%B3%D0%B8%D0%BD_%D0%9E%D0%BB%D0%B5%D0%B3.ipynb\" target=\"_parent\"><img src=\"https://colab.research.google.com/assets/colab-badge.svg\" alt=\"Open In Colab\"/></a>"
      ]
    },
    {
      "cell_type": "markdown",
      "metadata": {
        "id": "NGxTHkP3tsb_",
        "colab_type": "text"
      },
      "source": [
        "**Памятка по домашнему заданию**\n",
        "\n",
        "*   Максимальный балл за правильно выполненное ДЗ - **20** (10 за версию Light, 10 за версию PRO).\n",
        "*   Имеющиеся в ДЗ ошибки можно исправить. Максимальный балл после исправления замечаний - **19**.\n",
        "*   Максимальный балл через две недели после получения ДЗ (c 06.07) - **18**.\n",
        "*   Минимальный балл при условии выполнения всех заданий - **7**.\n",
        "\n",
        "\n",
        "\n",
        "\n"
      ]
    },
    {
      "cell_type": "markdown",
      "metadata": {
        "id": "3Mq5CACckeYC",
        "colab_type": "text"
      },
      "source": [
        "# Комбинаторика"
      ]
    },
    {
      "cell_type": "markdown",
      "metadata": {
        "id": "AyvQdM4-kh5u",
        "colab_type": "text"
      },
      "source": [
        "**Light**\n",
        "\n"
      ]
    },
    {
      "cell_type": "code",
      "metadata": {
        "id": "CQqUdVT-A2dV",
        "colab_type": "code",
        "colab": {}
      },
      "source": [
        "# Функция перестановки без повторений \n",
        "def P1(n): #(факториaл)\n",
        "  f =1\n",
        "  for x in range(2,n+1):\n",
        "    f*=x\n",
        "  return f\n",
        "\n",
        "# Функция Сочетание без повторений \n",
        "def P2(n,m):                          # сколькими способами можно выбрать m объектов из n\n",
        "  return P1(n)/ (P1(n-m)* P1(m))\n",
        "\n",
        "# Функция Размещение без повторений \n",
        "def P3(n,m):                          # cколькими способами можно выбрать m объектов из n объектов (при этом объекты можно переставлять местами)\n",
        "  return P2(n,m) * P1(m)\n",
        "\n",
        "# Функция Перестановка c повторением\n",
        "def P4(n,m):          # n- общее количество элементов;  m - количество уникальных элементов в списке n \n",
        "  przv = 1\n",
        "  for x in m:\n",
        "    przv *= P1(x)     # произведение факториалов уникальных значений \"х\" из списка \"m\"\n",
        "  return P1(n)/ przv\n",
        "\n",
        "# Функция Сочетание с повторением\n",
        "def P5(n,m):                            # сколькими способами можно из \"n\" множеств выбрать \"m\" элементов\n",
        "  return P1(n+m-1)/ (P1(n-1)* P1(m))\n",
        "\n",
        "# Функция Размещение с повторением\n",
        "def P6(n,m):                         # сколькими способами можно вбрать из множества n объектов m объектов\n",
        "  return n**m\n"
      ],
      "execution_count": 1,
      "outputs": []
    },
    {
      "cell_type": "markdown",
      "metadata": {
        "id": "mou3NzKpvSgV",
        "colab_type": "text"
      },
      "source": [
        "###Задача 1\n",
        "\n",
        "Сколько четырёхзначных чисел можно составить из следующих четырёх цифр: 1, 6, 3, 0?"
      ]
    },
    {
      "cell_type": "code",
      "metadata": {
        "id": "7uZOCkkQvylp",
        "colab_type": "code",
        "colab": {
          "base_uri": "https://localhost:8080/",
          "height": 34
        },
        "outputId": "22416333-7712-4b88-b8bc-1ac8ba89e06d"
      },
      "source": [
        "# Функция перестановки без повторений\n",
        "# Вчетырехзначном числе должны быть задействованы все (n = 4) цифры: 1, 6, 3, 0\n",
        "  \n",
        "print('Из 4 цифр 1, 6, 3, 0 можно составить', P1(4), 'четырёхзначных числа')"
      ],
      "execution_count": null,
      "outputs": [
        {
          "output_type": "stream",
          "text": [
            "Из 4 цифр 1, 6, 3, 0 можно составить 24 четырёхзначных числа\n"
          ],
          "name": "stdout"
        }
      ]
    },
    {
      "cell_type": "markdown",
      "metadata": {
        "id": "ftyDoxBtvSuF",
        "colab_type": "text"
      },
      "source": [
        "###Задача 2\n",
        "\n",
        "Сколькими способами из колоды в 36 карт можно выбрать 3 карты? (без учета порядка)"
      ]
    },
    {
      "cell_type": "code",
      "metadata": {
        "id": "gv3_ymiOMFG2",
        "colab_type": "code",
        "colab": {
          "base_uri": "https://localhost:8080/",
          "height": 34
        },
        "outputId": "bdaafee2-e7b3-4373-f96a-d73142ce5a44"
      },
      "source": [
        "# Функция сочетания без повторения (Учесть этот вариант решения)\n",
        "print('Из 36 карт можно выбрать 3 карты (без учёта порядка выбора)', int(P2(36, 3)), 'способами')"
      ],
      "execution_count": null,
      "outputs": [
        {
          "output_type": "stream",
          "text": [
            "Из 36 карт можно выбрать 3 карты (без учёта порядка выбора) 7140 способами\n"
          ],
          "name": "stdout"
        }
      ]
    },
    {
      "cell_type": "code",
      "metadata": {
        "id": "ai5H3ludvzFW",
        "colab_type": "code",
        "colab": {
          "base_uri": "https://localhost:8080/",
          "height": 34
        },
        "outputId": "cab4ed06-4a2e-4415-d85d-505914ddd9dc"
      },
      "source": [
        "# Функция размещения без повторения \n",
        "print('Из 36 карт можно выбрать 3 карты (учитывая порядок выбора)', int(P3(36, 3)), 'способами')"
      ],
      "execution_count": null,
      "outputs": [
        {
          "output_type": "stream",
          "text": [
            "Из 36 карт можно выбрать 3 карты (учитывая порядок) 42840 способами\n"
          ],
          "name": "stdout"
        }
      ]
    },
    {
      "cell_type": "markdown",
      "metadata": {
        "id": "HQirwSuavS4t",
        "colab_type": "text"
      },
      "source": [
        "###Задача 3\n",
        "\n",
        "На должность менеджера по продажам и его ассистента подали резюме 23 человека. Сколькими способами можно выбрать двух финальных кандидатов?"
      ]
    },
    {
      "cell_type": "code",
      "metadata": {
        "id": "7lMrkGDbvzp4",
        "colab_type": "code",
        "colab": {
          "base_uri": "https://localhost:8080/",
          "height": 34
        },
        "outputId": "9e69f989-e2c4-4175-8a4e-e77e16d8398a"
      },
      "source": [
        "# Функция сочетания без повторения (Учесть этот вариант решения)\n",
        "print('Из 23 кандидатов можно выбрать 2-х человек (без учёта порядка выбора)', int(P2(23, 2)), 'способами')"
      ],
      "execution_count": 2,
      "outputs": [
        {
          "output_type": "stream",
          "text": [
            "Из 23 кандидатов можно выбрать 2-х человек (без учёта порядка выбора) 253 способами\n"
          ],
          "name": "stdout"
        }
      ]
    },
    {
      "cell_type": "markdown",
      "metadata": {
        "id": "miIhi7VUvS8p",
        "colab_type": "text"
      },
      "source": [
        "###Задача 4\n",
        "Сколько различных сочетаний можно получить перестановкой букв в следующем словосочетании: НУЖНО ЛЮБИТЬ МАТЕМАТИКУ И КОТИКОВ?"
      ]
    },
    {
      "cell_type": "code",
      "metadata": {
        "id": "xbvWc4GiD1ey",
        "colab_type": "code",
        "colab": {
          "base_uri": "https://localhost:8080/",
          "height": 134
        },
        "outputId": "5a8be19c-a342-43ea-a91e-05b9bd7f9559"
      },
      "source": [
        "slovo = 'НУЖНО ЛЮБИТЬ МАТЕМАТИКУ И КОТИКОВ?'\n",
        "\n",
        "def phrase(string):\n",
        "  string = string.replace(' ','')   # удаление из строки пробелов\n",
        "  string = string.replace('?','')   # удаление из строки \"?\"\n",
        "  n = len(string)                   # определение общего количества букв\n",
        "  #string.count(str, [start],[end])\n",
        "  lst = list(string)\n",
        "  dict1 = {}                        # создаем словарь в котором будем  хранить уникальные буквы и их количество в выражении\n",
        "  ki = ''\n",
        "  for i in lst:\n",
        "    string = string.replace(ki, '')\n",
        "    if  string.count(i) > 0:\n",
        "      dict1[i] = (string.count(i ))\n",
        "      ki = i\n",
        "  m = dict1.values()\n",
        "  \n",
        "  print('словарь из уникальных букв и количества их значений', dict1)\n",
        "  print('список количеств значений уникальных букв\\n', 'm =', m)\n",
        "  print('общее количество букв n =', n)\n",
        " \n",
        "  return print('\\nКоличество различных сочетаний букв в', \"'\",slovo,\"'\", 'равно:\\n', P4(n , m))\n",
        "     \n",
        "phrase(slovo)"
      ],
      "execution_count": null,
      "outputs": [
        {
          "output_type": "stream",
          "text": [
            "словарь из уникальных букв и количества их значений {'Н': 2, 'У': 2, 'Ж': 1, 'О': 3, 'Л': 1, 'Ю': 1, 'Б': 1, 'И': 4, 'Т': 4, 'Ь': 1, 'М': 2, 'А': 2, 'Е': 1, 'К': 3, 'В': 1}\n",
            "список количеств значений уникальных букв\n",
            " m = dict_values([2, 2, 1, 3, 1, 1, 1, 4, 4, 1, 2, 2, 1, 3, 1])\n",
            "общее количество букв n = 29\n",
            "\n",
            "Количестов различных сочетаний букв в ' НУЖНО ЛЮБИТЬ МАТЕМАТИКУ И КОТИКОВ? ' равно:\n",
            " 2.6649793817936504e+25\n"
          ],
          "name": "stdout"
        }
      ]
    },
    {
      "cell_type": "markdown",
      "metadata": {
        "id": "i-lUADpzvTMq",
        "colab_type": "text"
      },
      "source": [
        "###Задача 5\n",
        "\n",
        "В кошельке находятся  одно-, двух- и десятирублевые монеты. Сколькими способами можно извлечь 4 монеты из кошелька?"
      ]
    },
    {
      "cell_type": "code",
      "metadata": {
        "id": "3jrYYLIAv09O",
        "colab_type": "code",
        "colab": {
          "base_uri": "https://localhost:8080/",
          "height": 34
        },
        "outputId": "4e646d49-9899-4f7c-bc10-bb8e409deeba"
      },
      "source": [
        "# Если учесть, что каждого типа монет в кошельке >= 4, то\n",
        "# используем функцию сочетание с повторением\n",
        "# нам предложено 2 множества монет n = 2\n",
        "# из 2-х множеств нужно выбрать 4 монеты, m = 4\n",
        "\n",
        "print('из 2-х множеств десятирублевых монет можно выбрать 4 монеты ', int(P5(2,4)), \"-ю способами\", sep = '')"
      ],
      "execution_count": null,
      "outputs": [
        {
          "output_type": "stream",
          "text": [
            "из 2-х множеств десятирублевых монет можно выбрать 4 монеты 5-ю способами\n"
          ],
          "name": "stdout"
        }
      ]
    },
    {
      "cell_type": "markdown",
      "metadata": {
        "id": "zYNvIKpOvTju",
        "colab_type": "text"
      },
      "source": [
        "###Задача 6\n",
        "\n",
        "Сколько всего существует вариантов IPv4 адресов (https://ru.wikipedia.org/wiki/IPv4) ?"
      ]
    },
    {
      "cell_type": "code",
      "metadata": {
        "id": "yC6A35DKeAdJ",
        "colab_type": "code",
        "colab": {
          "base_uri": "https://localhost:8080/",
          "height": 34
        },
        "outputId": "02a90adc-6551-4e0e-d735-497123ccf6de"
      },
      "source": [
        "# 0.0.0.0 - > 255.255.255.255\n",
        "# Используем функцию размещения с повторением\n",
        "# Сколькими способами можно из множества 256-ти чисел составить комбинаций для 4-х чисел\n",
        "print(\"Существует\", P6(256, 4), \"вариантов IPv4 адресов\")"
      ],
      "execution_count": null,
      "outputs": [
        {
          "output_type": "stream",
          "text": [
            "Существует 4294967296 вариантов IPv4 адресов\n"
          ],
          "name": "stdout"
        }
      ]
    },
    {
      "cell_type": "markdown",
      "metadata": {
        "id": "IDPH-3sLd1L8",
        "colab_type": "text"
      },
      "source": [
        "**Pro**\n",
        "\n",
        "\n",
        "\n",
        "\n",
        "\n",
        "\n",
        "\n",
        "\n"
      ]
    },
    {
      "cell_type": "markdown",
      "metadata": {
        "id": "zzwh_ja4yEaH",
        "colab_type": "text"
      },
      "source": [
        "###Задача 1\n",
        "\n",
        "Сколько существует выигрышных комбинаций из двух карт при игре в 21?"
      ]
    },
    {
      "cell_type": "code",
      "metadata": {
        "id": "9P6rhPlpyd0b",
        "colab_type": "code",
        "colab": {}
      },
      "source": [
        "# 21 очко комбинацией из 2-х карт можно набрать лишь с использованием  \"Десятки\" = 10 и \"Туза\" = 21\n",
        "# первая комбинация 10 + 11 = 21\n",
        "# вторая комбинация 11 + 11 = 22\n",
        "# Ответ: существует 2 выигрышных комбинации"
      ],
      "execution_count": null,
      "outputs": []
    },
    {
      "cell_type": "markdown",
      "metadata": {
        "id": "uFHRu7aOyEmw",
        "colab_type": "text"
      },
      "source": [
        "###Задача 2\n",
        "\n",
        "У Олега дома живут пять котов.\n",
        "\n",
        "а) Сколькими способами можно усадить четырех котов по углам комнаты?\n",
        "б) Сколькими способами можно выпустить котов погулять?\n",
        "в) Сколькими способами Вася может взять на руки двух котов (одного на левую, другого – на правую)?"
      ]
    },
    {
      "cell_type": "code",
      "metadata": {
        "id": "b-xBfAImyeS4",
        "colab_type": "code",
        "colab": {
          "base_uri": "https://localhost:8080/",
          "height": 101
        },
        "outputId": "279dd364-cad7-47d7-9f6d-e1bdf457e0bf"
      },
      "source": [
        "# a)\n",
        "# Используем функцию размещения без повторений\n",
        "# Сколькими способами можно усадить 5 котов (n = 5) по 4 углам (m = 4)\n",
        "print(\"а) \",int(P3(5, 4)), 'способов существует, чтобы усадить 5 котов (n = 5) по 4 углам (m = 4)\\n')\n",
        "\n",
        "# б)\n",
        "# Используем функцию сочетания без повторений\n",
        "# Сколькими способами можно выпустить 5 котов (n = 5) погулять (выпуск погулять одного кота также рассматривается как способ)\n",
        "print(\"б) \",int(P2(5, 5) + P2(5, 4) + P2(5, 3) + P2(5, 2) + P2(5, 1)), 'способ существует, чтобы выпустить котов (n = 5) погулять (m = 5,4,3,2,1)\\n')\n",
        "\n",
        "# в)\n",
        "# Используем функцию размещения без повторений\n",
        "# Сколькими способами можно усадить 5 котов (n = 5) по 4 углам (m = 4)\n",
        "print(\"в) \",int(P3(5, 2)), 'способов существует, чтобы взять на руки 2-х котов (m = 2) из 5  (n = 5) ')"
      ],
      "execution_count": null,
      "outputs": [
        {
          "output_type": "stream",
          "text": [
            "а)  120 способов существует, чтобы усадить 5 котов (n = 5) по 4 углам (m = 4)\n",
            "\n",
            "б)  31 способ существует, чтобы выпустить котов (n = 5) погулять (m = 5,4,3,2,1)\n",
            "\n",
            "в)  20 способов существует, чтобы взять на руки 2-х котов (m = 2) из 5  (n = 5) \n"
          ],
          "name": "stdout"
        }
      ]
    },
    {
      "cell_type": "markdown",
      "metadata": {
        "id": "y24DK-TByExK",
        "colab_type": "text"
      },
      "source": [
        "###Задача 3\n",
        "\n",
        "В лифт двенадцатиэтажного дома сели три пассажира. Каждый независимо от других с одинаковой вероятностью может выйти на любом (начиная со второго) этаже. \n",
        "1) Сколькими способами пассажиры могут выйти на одном и том же этаже (порядок выхода не имеет значения)?\n",
        "2) Сколькими способами два человека могут выйти на одном этаже, а третий – на другом?\n",
        "3) Сколькими способами люди могут выйти на разных этажах?\n",
        "4) Сколькими способами пассажиры могут выйти из лифта?"
      ]
    },
    {
      "cell_type": "code",
      "metadata": {
        "id": "HE39EaxHye3D",
        "colab_type": "code",
        "colab": {
          "base_uri": "https://localhost:8080/",
          "height": 235
        },
        "outputId": "cc7cd8a5-66ef-48ac-a5a2-1f14315d73ef"
      },
      "source": [
        "# 1) Используем функцию сочетания без повторений\n",
        "# Сколькими способами можно выйти 3-ем пассажирам (n = 3) одновременно (m = 3) на каждом из 12-ти этажей\n",
        "N1 = int(12 * P2(3, 3)) \n",
        "N11 = int(12 * P3(3, 3)) \n",
        "print(\"1) \", N1, 'способов существует, чтобы выйти пассажирам на одном и том же этаже;\\n') \n",
        "print( N11, ' - если важен порядок выхода из лифта;\\n')\n",
        "\n",
        "# 2) Используем функцию сочетания без повторений\n",
        "# Сколькими способами можно выйти 2-ум пассажирам (n = 3) одновременно (m = 2) на каждом из 12-ти этажей. \n",
        "# Для каждого варианта выхода двух человек на одном этаже существует 11 вариантов выхода одного человека на другом (11 = 12-1)\n",
        "N2 = int(12 * (11 * P2(3, 2)))\n",
        "N21 = int(12 * (11 * P3(3, 2)))\n",
        "print(\"2) \", N2, 'способов существует, чтобы выйти 2-ум пассажирам на одном этаже, а третьему на другом;\\n')\n",
        "print( N21, ' - если важен порядок выхода из лифта;\\n')\n",
        "\n",
        "# 3) Используем функцию размещения без повторений\n",
        "# Сколькими способами можно выйти 3-ем пассажирам (n = 3) одновременно (m = 3) на каждом из 12-ти этажей\n",
        "N3 = int( P3(12, 3)) \n",
        "print(\"3) \", N3, 'способов существует, чтобы выйти пассажирам на разных этажах;\\n') \n",
        "\n",
        "# 4) Используем функцию размещения без повторений\n",
        "# Сколькими способами можно выйти 3-ем пассажирам (n = 3) одновременно (m = 3) на каждом из 12-ти этажей\n",
        "N4 = N1 + N2 + N3\n",
        "N41 = N11 + N21 + N3\n",
        "print(\"4) \", N4, 'способов существует, чтобы выйти пассажирам из лифта;\\n')\n",
        "print( N41, 'если важен порядок выхода пассажиров')"
      ],
      "execution_count": 12,
      "outputs": [
        {
          "output_type": "stream",
          "text": [
            "1)  12 способов существует, чтобы выйти пассажирам на одном и том же этаже;\n",
            "\n",
            "72  - если важен порядок выхода из лифта;\n",
            "\n",
            "2)  396 способов существует, чтобы выйти 2-ум пассажирам на одном этаже, а третьему на другом;\n",
            "\n",
            "792  - если важен порядок выхода из лифта;\n",
            "\n",
            "3)  1320 способов существует, чтобы выйти пассажирам на разных этажах;\n",
            "\n",
            "4)  1728 способов существует, чтобы выйти пассажирам из лифта;\n",
            "\n",
            "2184 если важен порядок выхода пассажиров\n"
          ],
          "name": "stdout"
        }
      ]
    },
    {
      "cell_type": "markdown",
      "metadata": {
        "id": "9U674MWTyE5u",
        "colab_type": "text"
      },
      "source": [
        "###Задача 4\n",
        "\n",
        "Юноша занимается спортом по следующей программе:\n",
        " 3 дня в неделю - легкая атлетика.\n",
        " 2 дня - силовые тренировки. \n",
        " 1 день - плавание.\n",
        " 1 день - отдых. \n",
        " \n",
        " Сколькими способами он может составить себе расписание занятий на неделю?"
      ]
    },
    {
      "cell_type": "code",
      "metadata": {
        "id": "VFiFsQBwyfVa",
        "colab_type": "code",
        "colab": {
          "base_uri": "https://localhost:8080/",
          "height": 34
        },
        "outputId": "755f2185-a0c8-4228-f90e-c89a2fa5f66d"
      },
      "source": [
        "# Используем функцию сочетания без повторений\n",
        "Nla = P2 (7, 3) # варианты для проведения тренировок по легкой ателетике\n",
        "Nst = P2 (4, 2) # варианты для проведения силовых тренировок\n",
        "Np = P2 (2, 1)  # варианты для проведения тренировок по плаванию\n",
        "Ntren = Nla * Nst * Np\n",
        "\n",
        "print(int(Ntren), \"способов составления расписания занятий на неделю\")"
      ],
      "execution_count": 16,
      "outputs": [
        {
          "output_type": "stream",
          "text": [
            "420 способов составления расписания занятий на неделю\n"
          ],
          "name": "stdout"
        }
      ]
    },
    {
      "cell_type": "markdown",
      "metadata": {
        "id": "gAMyvdaeyFBk",
        "colab_type": "text"
      },
      "source": [
        "###Задача 5\n",
        "Сколько различных триграмм (сочетаний по 3 буквы) можно получить перестановкой букв в следующем словосочетании: НУЖНО ЛЮБИТЬ МАТЕМАТИКУ И КОТИКОВ?"
      ]
    },
    {
      "cell_type": "code",
      "metadata": {
        "id": "frLN-aMCeA7e",
        "colab_type": "code",
        "colab": {
          "base_uri": "https://localhost:8080/",
          "height": 84
        },
        "outputId": "90464f2b-8389-48e6-b196-2c2e393e7993"
      },
      "source": [
        "slovo = 'НУЖНО ЛЮБИТЬ МАТЕМАТИКУ И КОТИКОВ?'\n",
        "\n",
        "# для решения задачи используем функцию перемещения без повторений\n",
        "def trigram(string):\n",
        "  string = string.replace(' ','')   # удаление из строки пробелов\n",
        "  string = string.replace('?','')   # удаление из строки \"?\"\n",
        "  lst = list(string)\n",
        "  dict1 = {}                        # создаем словарь в котором будем  хранить уникальные буквы и их количество в выражении\n",
        "  ki = ''\n",
        "  j = 0                             # счётчик уникальных букв\n",
        "  for i in lst:\n",
        "    string = string.replace(ki, '')\n",
        "    if  string.count(i) > 0:\n",
        "      dict1[i] = (string.count(i ))\n",
        "      j += 1\n",
        "      ki = i\n",
        "  m = 3\n",
        "  print('словарь из уникальных букв и количества их значений', dict1)\n",
        "  print('количество уникальных букв n =', j)\n",
        "  print('количество букв в триграмме', 'm =', m)\n",
        " \n",
        "  return print('Количество различных триграмм в', \"'\",slovo,\"'\", 'равно:', int(P3(j , m)))\n",
        "     \n",
        "trigram(slovo)"
      ],
      "execution_count": 22,
      "outputs": [
        {
          "output_type": "stream",
          "text": [
            "словарь из уникальных букв и количества их значений {'Н': 2, 'У': 2, 'Ж': 1, 'О': 3, 'Л': 1, 'Ю': 1, 'Б': 1, 'И': 4, 'Т': 4, 'Ь': 1, 'М': 2, 'А': 2, 'Е': 1, 'К': 3, 'В': 1}\n",
            "количество уникальных букв n = 15\n",
            "количество букв в триграмме m = 3\n",
            "Количество различных триграмм в ' НУЖНО ЛЮБИТЬ МАТЕМАТИКУ И КОТИКОВ? ' равно: 2730\n"
          ],
          "name": "stdout"
        }
      ]
    },
    {
      "cell_type": "markdown",
      "metadata": {
        "id": "ozHQXry5n2IS",
        "colab_type": "text"
      },
      "source": [
        "# Множества"
      ]
    },
    {
      "cell_type": "markdown",
      "metadata": {
        "id": "mEyOoNiAdgdm",
        "colab_type": "text"
      },
      "source": [
        "**Light**\n"
      ]
    },
    {
      "cell_type": "markdown",
      "metadata": {
        "id": "2YOEEyyKuYDY",
        "colab_type": "text"
      },
      "source": [
        "###Задача 1\n",
        " \n",
        "  Записать множество Е, если $E = A\\cap B $, причем А={2, 4, 6, 8, 10, 12}, B={3, 6, 9, 12}."
      ]
    },
    {
      "cell_type": "code",
      "metadata": {
        "id": "qBVQ5iklu1pD",
        "colab_type": "code",
        "colab": {
          "base_uri": "https://localhost:8080/",
          "height": 34
        },
        "outputId": "d5ffbeda-d943-4264-bfaf-b1a76be0cbb6"
      },
      "source": [
        "A = {2,4,6,8,10,12}\n",
        "B = {3, 6 ,9 ,12}\n",
        "E = A.copy()\n",
        "E.intersection_update(B)\n",
        "E"
      ],
      "execution_count": 30,
      "outputs": [
        {
          "output_type": "execute_result",
          "data": {
            "text/plain": [
              "{6, 12}"
            ]
          },
          "metadata": {
            "tags": []
          },
          "execution_count": 30
        }
      ]
    },
    {
      "cell_type": "markdown",
      "metadata": {
        "id": "JaYsr8M1ugtk",
        "colab_type": "text"
      },
      "source": [
        "###Задача 2\n",
        " \n",
        "  Записать множество Е, если $E = A\\cup B $, причем А={1, 6, 2, 7, 9, 3}, B={1, 6, 2, 7, 9, 3}."
      ]
    },
    {
      "cell_type": "code",
      "metadata": {
        "id": "Ar-v905tu2Ke",
        "colab_type": "code",
        "colab": {
          "base_uri": "https://localhost:8080/",
          "height": 34
        },
        "outputId": "528ff399-aa66-49d1-ad70-b15b484bcfbd"
      },
      "source": [
        "A = {1, 6, 2, 7, 9, 3}\n",
        "B = {1, 6, 2, 7, 9, 3}\n",
        "E = A.copy()\n",
        "E.update(B)\n",
        "E"
      ],
      "execution_count": 31,
      "outputs": [
        {
          "output_type": "execute_result",
          "data": {
            "text/plain": [
              "{1, 2, 3, 6, 7, 9}"
            ]
          },
          "metadata": {
            "tags": []
          },
          "execution_count": 31
        }
      ]
    },
    {
      "cell_type": "markdown",
      "metadata": {
        "id": "yLHWoqHEui0O",
        "colab_type": "text"
      },
      "source": [
        "###Задача 3\n",
        " \n",
        "  Записать множество Е, если $E = A\\B $, причем А={2, 4, 6, 8, 10, 12}, B={1, 3, 6, 9, 12}."
      ]
    },
    {
      "cell_type": "code",
      "metadata": {
        "id": "cfFu7FOau3U1",
        "colab_type": "code",
        "colab": {
          "base_uri": "https://localhost:8080/",
          "height": 34
        },
        "outputId": "485596c1-bf3f-4c41-9741-5750f650b69b"
      },
      "source": [
        "A = {2, 4, 6, 8, 10, 12}\n",
        "B = {1, 3, 6, 9, 12}\n",
        "E = A.copy()\n",
        "E.difference_update(B)\n",
        "E"
      ],
      "execution_count": 33,
      "outputs": [
        {
          "output_type": "execute_result",
          "data": {
            "text/plain": [
              "{2, 4, 8, 10}"
            ]
          },
          "metadata": {
            "tags": []
          },
          "execution_count": 33
        }
      ]
    },
    {
      "cell_type": "markdown",
      "metadata": {
        "id": "wnRDpITRumnS",
        "colab_type": "text"
      },
      "source": [
        "###Задача 4\n",
        " \n",
        "  Записать множество Е, если $E = A\\cap B $, причем А={1, 6, 2, 7, 9, 3}, B={1, 6, 2, 7, 9, 3}."
      ]
    },
    {
      "cell_type": "code",
      "metadata": {
        "id": "uUeSaptHu4Ha",
        "colab_type": "code",
        "colab": {
          "base_uri": "https://localhost:8080/",
          "height": 34
        },
        "outputId": "fb8930b5-51f2-4565-ab88-5be88928132b"
      },
      "source": [
        "A = {1, 6, 2, 7, 9, 3}\n",
        "B = {1, 6, 2, 7, 9, 3}\n",
        "E = A.copy()\n",
        "E.intersection_update(B)\n",
        "E"
      ],
      "execution_count": 34,
      "outputs": [
        {
          "output_type": "execute_result",
          "data": {
            "text/plain": [
              "{1, 2, 3, 6, 7, 9}"
            ]
          },
          "metadata": {
            "tags": []
          },
          "execution_count": 34
        }
      ]
    },
    {
      "cell_type": "markdown",
      "metadata": {
        "id": "YKz-zW2jum28",
        "colab_type": "text"
      },
      "source": [
        "###Задача 5\n",
        "  Дано множество А={1, 2, 4}, существует множество B. Такое, что B\\E = {3} и $A\\cap B$ = {1}. \n",
        "\n",
        "Найти множество B, если его мощность равна 2."
      ]
    },
    {
      "cell_type": "code",
      "metadata": {
        "id": "zTcBhC5Qu4nY",
        "colab_type": "code",
        "colab": {
          "base_uri": "https://localhost:8080/",
          "height": 34
        },
        "outputId": "39b7d58c-aa94-4c0e-e3ca-2f96c2c8db1c"
      },
      "source": [
        "B = set()\n",
        "B1 = set({1})\n",
        "B2 = set({3})\n",
        "B = B1.copy()\n",
        "B = B.union(B2)\n",
        "print('Множество B равно', B )"
      ],
      "execution_count": 55,
      "outputs": [
        {
          "output_type": "stream",
          "text": [
            "Множество B равно {1, 3}\n"
          ],
          "name": "stdout"
        }
      ]
    },
    {
      "cell_type": "markdown",
      "metadata": {
        "id": "Ot3-X0GQpNFp",
        "colab_type": "text"
      },
      "source": [
        "**PRO**\n"
      ]
    },
    {
      "cell_type": "markdown",
      "metadata": {
        "id": "G3WaP_OSu8Kw",
        "colab_type": "text"
      },
      "source": [
        "###Задача 1\n",
        "\n",
        "Доказать, что $ A \\(A\\B) = A\\cap B $."
      ]
    },
    {
      "cell_type": "code",
      "metadata": {
        "id": "qwujWqh-vQfM",
        "colab_type": "code",
        "colab": {}
      },
      "source": [
        ""
      ],
      "execution_count": null,
      "outputs": []
    },
    {
      "cell_type": "markdown",
      "metadata": {
        "id": "emTEZyOPu8Sg",
        "colab_type": "text"
      },
      "source": [
        "###Задача 2\n",
        "\n",
        "Доказать, что $ A = (A\\cap B) \\cup (A\\B) $."
      ]
    },
    {
      "cell_type": "code",
      "metadata": {
        "id": "AsI4pkPpvP-a",
        "colab_type": "code",
        "colab": {}
      },
      "source": [
        ""
      ],
      "execution_count": null,
      "outputs": []
    },
    {
      "cell_type": "markdown",
      "metadata": {
        "id": "TgKIOnlDu8cd",
        "colab_type": "text"
      },
      "source": [
        "###Задача 3\n",
        "\n",
        "В классе 36 учеников. Каждый из них пользуется хотя бы одним из видов городского транспорта: метро, автобусом и троллейбусом. Всеми тремя видами транспорта пользуются 5 учеников, метро и автобусом – 17 учеников, метро и троллейбусом – 15 учеников, троллейбусом и автобусом – 7 учеников.\n",
        "\n",
        "Сколько учеников пользуются только одним видом транспорта?\n"
      ]
    },
    {
      "cell_type": "code",
      "metadata": {
        "id": "I9KwweluvPWt",
        "colab_type": "code",
        "colab": {}
      },
      "source": [
        ""
      ],
      "execution_count": null,
      "outputs": []
    },
    {
      "cell_type": "markdown",
      "metadata": {
        "id": "yCl-xEaju8CI",
        "colab_type": "text"
      },
      "source": [
        "###Задача 4\n",
        "\n",
        "Первую или вторую контрольную работу по математике успешно написали 34 студента, первую или третью – 32 студента, вторую или третью – 31 студент. Не менее двух контрольных работ выполнили 20 студентов.\n",
        "\n",
        "Сколько студентов успешно решили только одну контрольную работу?"
      ]
    },
    {
      "cell_type": "code",
      "metadata": {
        "id": "9KkSB0DOeAGh",
        "colab_type": "code",
        "colab": {}
      },
      "source": [
        ""
      ],
      "execution_count": null,
      "outputs": []
    }
  ]
}